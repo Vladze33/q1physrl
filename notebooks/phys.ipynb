{
 "cells": [
  {
   "cell_type": "code",
   "execution_count": 30,
   "metadata": {},
   "outputs": [],
   "source": [
    "import dataclasses\n",
    "import json\n",
    "\n",
    "import matplotlib.pyplot as plt\n",
    "import numpy as np\n",
    "import pandas as pd\n",
    "\n",
    "from q1physrl import phys"
   ]
  },
  {
   "cell_type": "code",
   "execution_count": 39,
   "metadata": {},
   "outputs": [],
   "source": [
    "with open(\"/home/matt/Quakespasm/quakespasm/Quake/accel_svr.txt\") as f:\n",
    "    lines = f.readlines()"
   ]
  },
  {
   "cell_type": "code",
   "execution_count": 40,
   "metadata": {},
   "outputs": [],
   "source": [
    "def parse_dataframe(lines, prefix, float32_cols, float64_cols):\n",
    "    records = [json.loads(l.split(' ', 1)[1].strip())\n",
    "                   for l in lines if l.startswith(prefix)]   \n",
    "    df = pd.DataFrame.from_records(records)\n",
    "    \n",
    "    for col in float32_cols:\n",
    "        df[col] = df[col].astype('int32').view('float32')\n",
    "\n",
    "    for col in float64_cols:\n",
    "        df[col] = df[col].astype('int64').view('float64')\n",
    "    \n",
    "    return df"
   ]
  },
  {
   "cell_type": "code",
   "execution_count": 41,
   "metadata": {},
   "outputs": [],
   "source": [
    "df = parse_dataframe(lines, '@@@FRAME_INPUT@@@',\n",
    "                     ['yaw', 'pitch', 'roll', 'fmove', 'smove', 'button2', 'velx', 'vely', 'velz', 'z'],\n",
    "                     ['time', 'host_frametime'])"
   ]
  },
  {
   "cell_type": "code",
   "execution_count": 48,
   "metadata": {},
   "outputs": [
    {
     "data": {
      "text/plain": [
       "count    258.0\n",
       "mean       0.0\n",
       "std        0.0\n",
       "min        0.0\n",
       "25%        0.0\n",
       "50%        0.0\n",
       "75%        0.0\n",
       "max        0.0\n",
       "Name: yaw, dtype: float64"
      ]
     },
     "execution_count": 48,
     "metadata": {},
     "output_type": "execute_result"
    }
   ],
   "source": [
    "pd.Series.describe((df.yaw * 256 / 360) % 1)"
   ]
  },
  {
   "cell_type": "code",
   "execution_count": 26,
   "metadata": {},
   "outputs": [
    {
     "data": {
      "text/plain": [
       "array([2.6140625e+01, 3.9062500e-03, 5.8593750e-02, 2.1875000e-01,\n",
       "       1.6406250e-01, 1.6015625e-01, 2.3828125e-01, 4.5312500e-01,\n",
       "       8.1640625e-01, 1.1718750e-02, 6.4843750e-01, 2.2656250e-01,\n",
       "       5.2343750e-01, 4.4531250e-01, 1.2812500e+00, 8.7890625e-01,\n",
       "       8.9843750e-02, 1.0000000e+00, 1.0937500e+00, 7.0312500e-02,\n",
       "       9.4140625e-01, 1.9531250e-02, 8.9062500e-01, 8.3203125e-01,\n",
       "       1.9921875e-01, 4.2187500e-01, 7.8125000e-01, 3.1250000e-02,\n",
       "       3.1250000e-02, 3.5156250e-02, 3.9062500e-03, 5.8593750e-02,\n",
       "       7.8125000e-03, 3.5156250e-02, 1.6015625e-01, 3.7890625e-01,\n",
       "       1.2500000e-01, 1.3671875e-01, 2.4218750e-01, 5.3906250e-01,\n",
       "       1.1328125e-01, 7.0312500e-02, 2.2265625e-01, 2.8125000e-01,\n",
       "       2.8515625e-01, 8.7890625e-01, 2.1093750e-01, 1.1718750e-02,\n",
       "       1.2890625e-01, 7.4218750e-02, 4.4140625e-01, 5.0781250e-02,\n",
       "       3.9062500e-03, 1.6015625e-01, 1.2890625e-01, 1.2500000e-01,\n",
       "       1.5625000e-01, 8.2031250e-02, 2.3437500e-01, 1.0937500e-01,\n",
       "       3.2421875e-01, 8.5937500e-02, 2.1484375e-01, 5.0781250e-02,\n",
       "       1.7968750e-01, 3.5546875e-01, 1.3281250e-01, 3.5156250e-02,\n",
       "       7.8125000e-03, 3.9062500e-01, 3.2812500e-01, 2.8906250e-01,\n",
       "       8.2812500e-01, 2.7343750e-02, 2.1093750e-01, 1.1718750e-02,\n",
       "       1.9531250e-01, 2.5000000e-01, 3.9062500e-03, 2.4218750e-01,\n",
       "       1.7578125e-01, 3.9062500e-03, 4.5312500e-01, 5.5859375e-01,\n",
       "       3.5156250e-02, 7.8125000e-02, 1.1328125e-01, 1.9921875e-01,\n",
       "       1.5625000e-02, 3.1250000e-02, 4.1406250e-01, 1.6406250e-01,\n",
       "       4.0234375e-01, 1.2890625e-01, 1.3671875e-01, 1.4843750e-01,\n",
       "       3.8281250e-01, 8.5937500e-02, 4.1015625e-01, 5.4687500e-02,\n",
       "       3.9062500e-02, 1.2890625e-01, 1.3281250e-01, 2.4218750e-01,\n",
       "       3.0078125e-01, 1.5625000e-02, 2.7343750e-02, 1.3281250e-01,\n",
       "       2.4218750e-01, 3.5546875e-01, 1.7968750e-01, 1.5234375e-01,\n",
       "       1.1718750e-02, 3.7890625e-01, 1.0156250e-01, 2.3046875e-01,\n",
       "       3.5937500e-01, 3.1250000e-02, 2.9296875e-01, 3.6328125e-01,\n",
       "       6.2500000e-02, 3.2421875e-01, 3.0078125e-01, 8.5937500e-02,\n",
       "       3.1250000e-02, 3.9062500e-03, 3.5156250e-02, 5.4687500e-02,\n",
       "       1.1718750e-02, 1.6015625e-01, 7.8125000e-02, 1.1328125e-01,\n",
       "       4.8437500e-01, 4.2968750e-02, 1.6015625e-01, 9.7656250e-02,\n",
       "       1.9140625e-01, 1.1718750e-02, 2.4218750e-01, 2.2265625e-01,\n",
       "       1.0937500e-01, 2.3828125e-01, 1.7968750e-01, 5.3515625e-01,\n",
       "       4.6875000e-02, 3.9062500e-03, 1.7578125e-01, 1.7578125e-01,\n",
       "       1.0156250e-01, 4.1015625e-01, 3.2031250e-01, 5.4687500e-02,\n",
       "       2.1875000e-01, 8.9843750e-02, 4.2578125e-01, 1.1328125e-01,\n",
       "       1.4843750e-01, 4.2968750e-02, 5.8593750e-02, 1.2890625e-01,\n",
       "       2.3437500e-02, 5.1953125e-01, 3.9062500e-03, 1.9531250e-02,\n",
       "       5.6640625e-01, 1.0546875e-01, 1.1718750e-01, 3.1250000e-01,\n",
       "       2.2656250e-01, 8.5937500e-02, 2.7343750e-01, 6.2500000e-02,\n",
       "       2.0312500e-01, 7.4218750e-02, 7.8125000e-01, 1.0546875e-01,\n",
       "       3.8281250e-01, 1.5625000e-02, 4.6875000e-02, 5.9375000e-01,\n",
       "       4.4140625e-01, 1.6796875e-01, 4.6875000e-02, 4.2187500e-01,\n",
       "       3.9843750e-01, 4.8828125e-01, 3.9062500e-03, 3.5546875e-01,\n",
       "       1.0156250e-01, 2.3046875e-01, 3.8671875e-01, 1.1718750e-02,\n",
       "       1.6406250e-01, 3.3984375e-01, 1.7578125e-01, 3.8671875e-01,\n",
       "       3.3203125e-01, 1.5625000e-02, 2.1093750e-01, 3.2031250e-01,\n",
       "       1.1718750e-01, 6.6406250e-02, 3.7890625e-01, 4.2187500e-01,\n",
       "       2.2656250e-01, 4.1406250e-01, 2.1875000e-01, 4.6875000e-02,\n",
       "       1.5625000e-02, 2.4609375e-01, 2.2656250e-01, 1.5234375e-01,\n",
       "       2.3437500e-01, 2.9296875e-01, 3.1250000e-02, 1.6015625e-01,\n",
       "       2.5000000e-01, 3.9062500e-02, 6.4843750e-01, 1.0937500e-01,\n",
       "       1.6406250e-01, 2.6562500e-01, 1.6406250e-01, 2.3828125e-01,\n",
       "       2.7343750e-02, 2.1875000e-01, 1.7187500e-01, 3.8281250e-01,\n",
       "       7.4218750e-02, 5.8593750e-02, 3.9062500e-02, 4.1406250e-01,\n",
       "       4.0625000e-01, 7.8125000e-02, 1.0937500e-01, 8.5937500e-02,\n",
       "       2.3437500e-02, 1.4062500e-01, 5.2343750e-01, 2.3437500e-02,\n",
       "       1.9531250e-02, 3.8281250e-01, 8.2031250e-02, 3.9062500e-01,\n",
       "       2.1875000e-01, 1.9531250e-02, 2.7343750e-02, 1.6406250e-01,\n",
       "       5.4687500e-02, 9.3750000e-02, 2.1484375e-01, 5.0781250e-02,\n",
       "       3.6718750e-01, 5.4687500e-02, 5.3515625e-01, 1.1718750e-02,\n",
       "       7.8125000e-02, 3.1250000e-01, 1.0937500e-01, 1.7968750e-01,\n",
       "       3.9062500e-03, 3.1640625e-01, 1.4453125e-01, 1.6015625e-01,\n",
       "       3.6718750e-01, 6.6406250e-02, 7.4218750e-02, 1.2500000e-01,\n",
       "       2.3437500e-02, 1.9531250e-01, 7.8125000e-02, 3.8281250e-01,\n",
       "       1.9531250e-01, 6.2500000e-02, 1.5625000e-02, 2.5781250e-01,\n",
       "       6.2500000e-02, 1.2500000e-01, 3.9062500e-03, 4.4140625e-01,\n",
       "       2.9687500e-01, 2.3437500e-01, 6.2500000e-02, 1.8750000e-01,\n",
       "       7.8125000e-02, 5.4687500e-02, 1.6406250e-01, 7.0312500e-01,\n",
       "       7.4218750e-02, 6.6406250e-02, 8.2031250e-02, 4.4921875e-01,\n",
       "       7.8125000e-02, 3.9062500e-02, 3.1640625e-01, 1.7578125e-01,\n",
       "       1.1718750e-02, 9.7656250e-02, 1.8750000e-01, 4.3750000e-01,\n",
       "       1.2500000e-01, 1.5625000e-01, 1.7187500e-01, 1.4062500e-01,\n",
       "       3.4765625e-01, 1.6796875e-01, 6.1718750e-01, 4.7656250e-01,\n",
       "       8.9843750e-02, 1.2890625e-01, 5.6250000e-01, 3.4375000e-01,\n",
       "       1.2500000e-01, 6.2500000e-02, 6.2500000e-02, 6.2500000e-02])"
      ]
     },
     "execution_count": 26,
     "metadata": {},
     "output_type": "execute_result"
    }
   ],
   "source": [
    "np.diff(np.array(df.yaw.value_counts().index.sort_values())) * 256 / 360"
   ]
  },
  {
   "cell_type": "code",
   "execution_count": 10,
   "metadata": {},
   "outputs": [
    {
     "data": {
      "text/plain": [
       "400.0    263\n",
       "0.0       43\n",
       "200.0      1\n",
       "Name: fmove, dtype: int64"
      ]
     },
     "execution_count": 10,
     "metadata": {},
     "output_type": "execute_result"
    }
   ],
   "source": [
    "df.fmove.value_counts()"
   ]
  },
  {
   "cell_type": "code",
   "execution_count": 5,
   "metadata": {
    "scrolled": false
   },
   "outputs": [
    {
     "name": "stderr",
     "output_type": "stream",
     "text": [
      "/home/matt/100m-rl/q1physrl/phys.py:99: RuntimeWarning: invalid value encountered in true_divide\n",
      "  wish_vel / unclipped_wish_speed[:, None],\n",
      "/home/matt/100m-rl/q1physrl/phys.py:104: RuntimeWarning: invalid value encountered in true_divide\n",
      "  (wish_speed / unclipped_wish_speed),\n",
      "/home/matt/100m-rl/q1physrl/phys.py:89: RuntimeWarning: invalid value encountered in true_divide\n",
      "  return np.where((speed > 0)[:, None], h_vel * (new_speed / speed)[:, None], h_vel)\n"
     ]
    }
   ],
   "source": [
    "inputs = phys.Inputs.from_df(df)\n",
    "player_state = phys.PlayerState.from_df(df)\n",
    "\n",
    "next_player_state = phys.apply(inputs, player_state)\n",
    "\n",
    "real_df = player_state.to_df().iloc[1:].reset_index().drop(['index', 'onground', 'jumpreleased'], axis=1)\n",
    "sim_df = next_player_state.to_df().iloc[:-1].reset_index().drop(['index', 'onground', 'jumpreleased'], axis=1)"
   ]
  },
  {
   "cell_type": "code",
   "execution_count": 42,
   "metadata": {},
   "outputs": [
    {
     "data": {
      "text/plain": [
       "0      32.843201\n",
       "1      32.529602\n",
       "2      31.591202\n",
       "3      30.863201\n",
       "4      29.978401\n",
       "         ...    \n",
       "302    24.011585\n",
       "303    24.011585\n",
       "304    24.011585\n",
       "305    24.011585\n",
       "306    24.011585\n",
       "Name: z, Length: 307, dtype: float32"
      ]
     },
     "execution_count": 42,
     "metadata": {},
     "output_type": "execute_result"
    }
   ],
   "source": [
    "df.z"
   ]
  },
  {
   "cell_type": "code",
   "execution_count": 37,
   "metadata": {},
   "outputs": [
    {
     "data": {
      "text/plain": [
       "32.875"
      ]
     },
     "execution_count": 37,
     "metadata": {},
     "output_type": "execute_result"
    }
   ],
   "source": [
    "(df.z[0] * 16).astype(int) / 16 + 1/16"
   ]
  },
  {
   "cell_type": "code",
   "execution_count": 14,
   "metadata": {},
   "outputs": [
    {
     "data": {
      "text/plain": [
       "<matplotlib.axes._subplots.AxesSubplot at 0x7f2dacd56eb8>"
      ]
     },
     "execution_count": 14,
     "metadata": {},
     "output_type": "execute_result"
    },
    {
     "data": {
      "image/png": "[encoded data removed]",
      "text/plain": [
       "<Figure size 432x288 with 1 Axes>"
      ]
     },
     "metadata": {
      "needs_background": "light"
     },
     "output_type": "display_data"
    }
   ],
   "source": [
    "df[['velx', 'vely']].plot()"
   ]
  },
  {
   "cell_type": "code",
   "execution_count": 6,
   "metadata": {},
   "outputs": [
    {
     "data": {
      "text/plain": [
       "<matplotlib.axes._subplots.AxesSubplot at 0x7f2de3805ef0>"
      ]
     },
     "execution_count": 6,
     "metadata": {},
     "output_type": "execute_result"
    },
    {
     "data": {
      "image/png": "[encoded data removed]",
      "text/plain": [
       "<Figure size 432x288 with 1 Axes>"
      ]
     },
     "metadata": {
      "needs_background": "light"
     },
     "output_type": "display_data"
    }
   ],
   "source": [
    "df[['smove', 'fmove', 'z', 'yaw']].plot()"
   ]
  },
  {
   "cell_type": "code",
   "execution_count": 7,
   "metadata": {},
   "outputs": [
    {
     "data": {
      "text/plain": [
       "<matplotlib.axes._subplots.AxesSubplot at 0x7f2dad43fc50>"
      ]
     },
     "execution_count": 7,
     "metadata": {},
     "output_type": "execute_result"
    },
    {
     "data": {
      "image/png": "[encoded data removed]",
      "text/plain": [
       "<Figure size 432x288 with 1 Axes>"
      ]
     },
     "metadata": {
      "needs_background": "light"
     },
     "output_type": "display_data"
    }
   ],
   "source": [
    "(real_df - sim_df).plot()"
   ]
  },
  {
   "cell_type": "markdown",
   "metadata": {},
   "source": [
    "# Profiling"
   ]
  },
  {
   "cell_type": "code",
   "execution_count": 23,
   "metadata": {},
   "outputs": [],
   "source": [
    "N = 1000\n",
    "\n",
    "inputs2 = phys.Inputs.from_df(pd.concat([inputs.to_df() for _ in range(N)], axis=0))\n",
    "player_state2 = phys.PlayerState.from_df(pd.concat([player_state.to_df() for _ in range(N)], axis=0))"
   ]
  },
  {
   "cell_type": "code",
   "execution_count": 29,
   "metadata": {},
   "outputs": [
    {
     "name": "stdout",
     "output_type": "stream",
     "text": [
      "CPU times: user 7.06 ms, sys: 0 ns, total: 7.06 ms\n",
      "Wall time: 9.55 ms\n"
     ]
    }
   ],
   "source": [
    "%time phys.apply(inputs2, player_state2)\n",
    "None"
   ]
  },
  {
   "cell_type": "code",
   "execution_count": 10,
   "metadata": {},
   "outputs": [
    {
     "name": "stdout",
     "output_type": "stream",
     "text": [
      " "
     ]
    }
   ],
   "source": [
    "%prun -s cumtime phys.apply(inputs2, player_state2)\n",
    "None"
   ]
  },
  {
   "cell_type": "code",
   "execution_count": 11,
   "metadata": {},
   "outputs": [],
   "source": [
    "%load_ext line_profiler"
   ]
  },
  {
   "cell_type": "code",
   "execution_count": 12,
   "metadata": {},
   "outputs": [],
   "source": [
    "%lprun -f phys._angle_vectors phys.apply(inputs2, player_state2)\n",
    "None"
   ]
  }
 ],
 "metadata": {
  "kernelspec": {
   "display_name": "Python 3",
   "language": "python",
   "name": "python3"
  },
  "language_info": {
   "codemirror_mode": {
    "name": "ipython",
    "version": 3
   },
   "file_extension": ".py",
   "mimetype": "text/x-python",
   "name": "python",
   "nbconvert_exporter": "python",
   "pygments_lexer": "ipython3",
   "version": "3.7.1"
  }
 },
 "nbformat": 4,
 "nbformat_minor": 4
}
