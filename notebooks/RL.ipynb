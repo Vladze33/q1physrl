{
 "cells": [
  {
   "cell_type": "code",
   "execution_count": 1,
   "metadata": {
    "scrolled": true
   },
   "outputs": [
    {
     "name": "stdout",
     "output_type": "stream",
     "text": [
      "WARNING: Not monitoring node memory since `psutil` is not installed. Install this with `pip install psutil` (or ray[debug]) to enable debugging of memory-related crashes.\n"
     ]
    },
    {
     "name": "stderr",
     "output_type": "stream",
     "text": [
      "/home/matt/.virtualenvs/100m-rl/lib/python3.7/site-packages/pandas/compat/__init__.py:85: UserWarning: Could not import the lzma module. Your installed Python is incomplete. Attempting to use lzma compression will result in a RuntimeError.\n",
      "  warnings.warn(msg)\n",
      "/home/matt/.virtualenvs/100m-rl/lib/python3.7/site-packages/pandas/compat/__init__.py:85: UserWarning: Could not import the lzma module. Your installed Python is incomplete. Attempting to use lzma compression will result in a RuntimeError.\n",
      "  warnings.warn(msg)\n"
     ]
    }
   ],
   "source": [
    "import numpy as np\n",
    "import ray\n",
    "import ray.rllib\n",
    "\n",
    "import q1physrl.env"
   ]
  },
  {
   "cell_type": "code",
   "execution_count": 2,
   "metadata": {},
   "outputs": [
    {
     "name": "stderr",
     "output_type": "stream",
     "text": [
      "2020-01-30 23:16:00,485\tWARNING worker.py:682 -- WARNING: Not updating worker name since `setproctitle` is not installed. Install this with `pip install setproctitle` (or ray[debug]) to enable monitoring of worker processes.\n",
      "2020-01-30 23:16:00,488\tWARNING services.py:592 -- setpgrp failed, processes may not be cleaned up properly: [Errno 1] Operation not permitted.\n",
      "2020-01-30 23:16:00,573\tINFO resource_spec.py:212 -- Starting Ray with 1.9 GiB memory available for workers and up to 0.97 GiB for objects. You can adjust these settings with ray.init(memory=<bytes>, object_store_memory=<bytes>).\n",
      "2020-01-30 23:16:00,854\tWARNING services.py:1080 -- Failed to start the dashboard. The dashboard requires Python 3 as well as 'pip install aiohttp psutil setproctitle grpcio'.\n",
      "2020-01-30 23:16:00,927\tWARNING services.py:1004 -- Failed to start the reporter. The reporter requires 'pip install psutil'.\n"
     ]
    },
    {
     "data": {
      "text/plain": [
       "{'node_ip_address': '192.168.178.24',\n",
       " 'redis_address': '192.168.178.24:43746',\n",
       " 'object_store_address': '/tmp/ray/session_2020-01-30_23-16-00_488058_13890/sockets/plasma_store',\n",
       " 'raylet_socket_name': '/tmp/ray/session_2020-01-30_23-16-00_488058_13890/sockets/raylet',\n",
       " 'webui_url': None,\n",
       " 'session_dir': '/tmp/ray/session_2020-01-30_23-16-00_488058_13890'}"
      ]
     },
     "execution_count": 2,
     "metadata": {},
     "output_type": "execute_result"
    }
   ],
   "source": [
    "ray.init()"
   ]
  },
  {
   "cell_type": "code",
   "execution_count": 3,
   "metadata": {},
   "outputs": [
    {
     "name": "stderr",
     "output_type": "stream",
     "text": [
      "2020-01-30 23:16:05,731\tINFO trainer.py:377 -- Tip: set 'eager': true or the --eager flag to enable TensorFlow eager execution\n",
      "2020-01-30 23:16:05,739\tERROR logger.py:328 -- pip install 'ray[tune]' to see TensorBoard files.\n",
      "2020-01-30 23:16:05,741\tWARNING logger.py:417 -- Could not instantiate TBXLogger: No module named 'tensorboardX'.\n",
      "2020-01-30 23:16:05,744\tINFO trainer.py:524 -- Current log_level is WARN. For more information, set 'log_level': 'INFO' / 'DEBUG' or use the -v and -vv flags.\n"
     ]
    },
    {
     "name": "stdout",
     "output_type": "stream",
     "text": [
      "\u001b[2m\u001b[36m(pid=13932)\u001b[0m /home/matt/.virtualenvs/100m-rl/lib/python3.7/site-packages/pandas/compat/__init__.py:85: UserWarning: Could not import the lzma module. Your installed Python is incomplete. Attempting to use lzma compression will result in a RuntimeError.\n",
      "\u001b[2m\u001b[36m(pid=13932)\u001b[0m   warnings.warn(msg)\n",
      "\u001b[2m\u001b[36m(pid=13934)\u001b[0m /home/matt/.virtualenvs/100m-rl/lib/python3.7/site-packages/pandas/compat/__init__.py:85: UserWarning: Could not import the lzma module. Your installed Python is incomplete. Attempting to use lzma compression will result in a RuntimeError.\n",
      "\u001b[2m\u001b[36m(pid=13934)\u001b[0m   warnings.warn(msg)\n",
      "\u001b[2m\u001b[36m(pid=13932)\u001b[0m /home/matt/.virtualenvs/100m-rl/lib/python3.7/site-packages/pandas/compat/__init__.py:85: UserWarning: Could not import the lzma module. Your installed Python is incomplete. Attempting to use lzma compression will result in a RuntimeError.\n",
      "\u001b[2m\u001b[36m(pid=13932)\u001b[0m   warnings.warn(msg)\n",
      "\u001b[2m\u001b[36m(pid=13934)\u001b[0m /home/matt/.virtualenvs/100m-rl/lib/python3.7/site-packages/pandas/compat/__init__.py:85: UserWarning: Could not import the lzma module. Your installed Python is incomplete. Attempting to use lzma compression will result in a RuntimeError.\n",
      "\u001b[2m\u001b[36m(pid=13934)\u001b[0m   warnings.warn(msg)\n"
     ]
    },
    {
     "name": "stderr",
     "output_type": "stream",
     "text": [
      "2020-01-30 23:16:12,967\tWARNING util.py:41 -- Install gputil for GPU system monitoring.\n",
      "2020-01-30 23:16:12,968\tWARNING util.py:44 -- Install psutil to monitor system performance.\n"
     ]
    }
   ],
   "source": [
    "trainer = ray.rllib.agents.ppo.PPOTrainer(\n",
    "# trainer = ray.rllib.agents.a3c.A2CTrainer(\n",
    "    env=q1physrl.env.PhysEnv,\n",
    "    config={\"env_config\": {\"num_envs\": 100}, \"gamma\": 0.99}\n",
    ")"
   ]
  },
  {
   "cell_type": "code",
   "execution_count": null,
   "metadata": {
    "scrolled": false
   },
   "outputs": [
    {
     "name": "stdout",
     "output_type": "stream",
     "text": [
      "\u001b[2m\u001b[36m(pid=13932)\u001b[0m /home/matt/100m-rl/q1physrl/phys.py:99: RuntimeWarning: invalid value encountered in true_divide\n",
      "\u001b[2m\u001b[36m(pid=13932)\u001b[0m   wish_vel / unclipped_wish_speed[:, None],\n",
      "\u001b[2m\u001b[36m(pid=13932)\u001b[0m /home/matt/100m-rl/q1physrl/phys.py:104: RuntimeWarning: invalid value encountered in true_divide\n",
      "\u001b[2m\u001b[36m(pid=13932)\u001b[0m   (wish_speed / unclipped_wish_speed),\n",
      "\u001b[2m\u001b[36m(pid=13932)\u001b[0m /home/matt/100m-rl/q1physrl/phys.py:89: RuntimeWarning: invalid value encountered in true_divide\n",
      "\u001b[2m\u001b[36m(pid=13932)\u001b[0m   return np.where((speed > 0)[:, None], h_vel * (new_speed / speed)[:, None], h_vel)\n",
      "\u001b[2m\u001b[36m(pid=13934)\u001b[0m /home/matt/100m-rl/q1physrl/phys.py:99: RuntimeWarning: invalid value encountered in true_divide\n",
      "\u001b[2m\u001b[36m(pid=13934)\u001b[0m   wish_vel / unclipped_wish_speed[:, None],\n",
      "\u001b[2m\u001b[36m(pid=13934)\u001b[0m /home/matt/100m-rl/q1physrl/phys.py:104: RuntimeWarning: invalid value encountered in true_divide\n",
      "\u001b[2m\u001b[36m(pid=13934)\u001b[0m   (wish_speed / unclipped_wish_speed),\n",
      "\u001b[2m\u001b[36m(pid=13934)\u001b[0m /home/matt/100m-rl/q1physrl/phys.py:89: RuntimeWarning: invalid value encountered in true_divide\n",
      "\u001b[2m\u001b[36m(pid=13934)\u001b[0m   return np.where((speed > 0)[:, None], h_vel * (new_speed / speed)[:, None], h_vel)\n",
      "295.63360859155654\n",
      "/home/matt/ray_results/PPO_PhysEnv_2020-01-30_23-16-050tlhkazl/checkpoint_1/checkpoint-1\n",
      "299.5780906581879\n",
      "299.5780906581879\n"
     ]
    }
   ],
   "source": [
    "i = 0\n",
    "while True:\n",
    "    print(trainer.train()['episode_reward_mean'])\n",
    "    if i % 20 == 0:\n",
    "        print(trainer.save())\n",
    "    i += 1"
   ]
  },
  {
   "cell_type": "code",
   "execution_count": null,
   "metadata": {},
   "outputs": [],
   "source": [
    "trainer.save()"
   ]
  },
  {
   "cell_type": "code",
   "execution_count": null,
   "metadata": {},
   "outputs": [],
   "source": [
    "# trainer.restore('/home/matt/ray_results/A2C_PhysEnv_2020-01-27_21-54-210mybah6w/checkpoint_38/checkpoint-38')"
   ]
  },
  {
   "cell_type": "code",
   "execution_count": null,
   "metadata": {},
   "outputs": [],
   "source": []
  },
  {
   "cell_type": "code",
   "execution_count": null,
   "metadata": {},
   "outputs": [],
   "source": [
    "env = q1physrl.env.PhysEnv({'num_envs': 1})\n",
    "obs = env.vector_reset()\n",
    "done = None\n",
    "\n",
    "action_list = []\n",
    "obs_list = []\n",
    "rewards_list = []\n",
    "\n",
    "while done is None or not done[0]:\n",
    "    obs_list.append(obs)\n",
    "    action = trainer.compute_action(obs[0])\n",
    "    action_list.append(action)\n",
    "    obs, reward, done, _ = env.vector_step(action[None])\n",
    "    rewards_list.append(reward)\n",
    "    \n",
    "actions = np.array(action_list)\n",
    "obss = np.array(obs_list)\n",
    "rewards = np.array(rewards_list)"
   ]
  },
  {
   "cell_type": "code",
   "execution_count": null,
   "metadata": {},
   "outputs": [],
   "source": [
    "import pandas as pd\n",
    "pd.DataFrame({'observed yaw': obss[:, 0, 0], 'yaw action': actions[:, 0]})"
   ]
  },
  {
   "cell_type": "code",
   "execution_count": null,
   "metadata": {},
   "outputs": [],
   "source": [
    "obss[0]"
   ]
  },
  {
   "cell_type": "code",
   "execution_count": null,
   "metadata": {},
   "outputs": [],
   "source": [
    "import matplotlib.pyplot as plt\n",
    "\n",
    "plt.plot(obss[:50, 0, 0])"
   ]
  },
  {
   "cell_type": "code",
   "execution_count": null,
   "metadata": {},
   "outputs": [],
   "source": [
    "plt.plot((actions[:, 0] - 1).cumsum() * 0.014 * 360)"
   ]
  },
  {
   "cell_type": "code",
   "execution_count": null,
   "metadata": {},
   "outputs": [],
   "source": [
    "import matplotlib.pyplot as plt\n",
    "plt.plot(actions[:36, 0])"
   ]
  },
  {
   "cell_type": "code",
   "execution_count": null,
   "metadata": {},
   "outputs": [],
   "source": [
    "actions[:, 0].mean()"
   ]
  }
 ],
 "metadata": {
  "kernelspec": {
   "display_name": "Python 3",
   "language": "python",
   "name": "python3"
  },
  "language_info": {
   "codemirror_mode": {
    "name": "ipython",
    "version": 3
   },
   "file_extension": ".py",
   "mimetype": "text/x-python",
   "name": "python",
   "nbconvert_exporter": "python",
   "pygments_lexer": "ipython3",
   "version": "3.7.1"
  }
 },
 "nbformat": 4,
 "nbformat_minor": 4
}
