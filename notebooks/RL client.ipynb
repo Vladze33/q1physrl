{
 "cells": [
  {
   "cell_type": "code",
   "execution_count": 1,
   "metadata": {},
   "outputs": [
    {
     "name": "stdout",
     "output_type": "stream",
     "text": [
      "WARNING: Not monitoring node memory since `psutil` is not installed. Install this with `pip install psutil` (or ray[debug]) to enable debugging of memory-related crashes.\n"
     ]
    },
    {
     "name": "stderr",
     "output_type": "stream",
     "text": [
      "/home/matt/.virtualenvs/100m-rl/lib/python3.7/site-packages/pandas/compat/__init__.py:85: UserWarning: Could not import the lzma module. Your installed Python is incomplete. Attempting to use lzma compression will result in a RuntimeError.\n",
      "  warnings.warn(msg)\n"
     ]
    }
   ],
   "source": [
    "import matplotlib.pyplot as plt\n",
    "import ray\n",
    "import ray.rllib\n",
    "\n",
    "import pyquake.proto\n",
    "import q1physrl.env"
   ]
  },
  {
   "cell_type": "code",
   "execution_count": 2,
   "metadata": {},
   "outputs": [
    {
     "name": "stderr",
     "output_type": "stream",
     "text": [
      "2020-01-29 09:41:30,333\tWARNING worker.py:673 -- WARNING: Not updating worker name since `setproctitle` is not installed. Install this with `pip install setproctitle` (or ray[debug]) to enable monitoring of worker processes.\n",
      "2020-01-29 09:41:30,341\tWARNING services.py:597 -- setpgrp failed, processes may not be cleaned up properly: [Errno 1] Operation not permitted.\n",
      "2020-01-29 09:41:30,404\tINFO resource_spec.py:216 -- Starting Ray with 0.93 GiB memory available for workers and up to 0.48 GiB for objects. You can adjust these settings with ray.init(memory=<bytes>, object_store_memory=<bytes>).\n",
      "2020-01-29 09:41:30,742\tWARNING services.py:1009 -- Failed to start the reporter. The reporter requires 'pip install psutil'.\n"
     ]
    },
    {
     "data": {
      "text/plain": [
       "{'node_ip_address': '127.0.1.1',\n",
       " 'redis_address': '127.0.1.1:49948',\n",
       " 'object_store_address': '/tmp/ray/session_2020-01-29_09-41-30_337991_24589/sockets/plasma_store',\n",
       " 'raylet_socket_name': '/tmp/ray/session_2020-01-29_09-41-30_337991_24589/sockets/raylet',\n",
       " 'webui_url': None,\n",
       " 'session_dir': '/tmp/ray/session_2020-01-29_09-41-30_337991_24589'}"
      ]
     },
     "execution_count": 2,
     "metadata": {},
     "output_type": "execute_result"
    }
   ],
   "source": [
    "ray.init()"
   ]
  },
  {
   "cell_type": "code",
   "execution_count": null,
   "metadata": {},
   "outputs": [],
   "source": []
  },
  {
   "cell_type": "code",
   "execution_count": 3,
   "metadata": {},
   "outputs": [
    {
     "name": "stderr",
     "output_type": "stream",
     "text": [
      "2020-01-29 09:41:33,280\tINFO trainer.py:371 -- Tip: set 'eager': true or the --eager flag to enable TensorFlow eager execution\n",
      "2020-01-29 09:41:33,287\tINFO trainer.py:512 -- Current log_level is WARN. For more information, set 'log_level': 'INFO' / 'DEBUG' or use the -v and -vv flags.\n",
      "2020-01-29 09:41:34,279\tWARNING util.py:45 -- Install gputil for GPU system monitoring.\n",
      "2020-01-29 09:41:34,281\tWARNING util.py:48 -- Install psutil to monitor system performance.\n"
     ]
    },
    {
     "name": "stdout",
     "output_type": "stream",
     "text": [
      "\u001b[2m\u001b[36m(pid=24632)\u001b[0m /home/matt/.virtualenvs/100m-rl/lib/python3.7/site-packages/pandas/compat/__init__.py:85: UserWarning: Could not import the lzma module. Your installed Python is incomplete. Attempting to use lzma compression will result in a RuntimeError.\n",
      "\u001b[2m\u001b[36m(pid=24632)\u001b[0m   warnings.warn(msg)\n",
      "\u001b[2m\u001b[36m(pid=24631)\u001b[0m /home/matt/.virtualenvs/100m-rl/lib/python3.7/site-packages/pandas/compat/__init__.py:85: UserWarning: Could not import the lzma module. Your installed Python is incomplete. Attempting to use lzma compression will result in a RuntimeError.\n",
      "\u001b[2m\u001b[36m(pid=24631)\u001b[0m   warnings.warn(msg)\n",
      "\u001b[2m\u001b[36m(pid=24632)\u001b[0m /home/matt/.virtualenvs/100m-rl/lib/python3.7/site-packages/pandas/compat/__init__.py:85: UserWarning: Could not import the lzma module. Your installed Python is incomplete. Attempting to use lzma compression will result in a RuntimeError.\n",
      "\u001b[2m\u001b[36m(pid=24632)\u001b[0m   warnings.warn(msg)\n",
      "\u001b[2m\u001b[36m(pid=24631)\u001b[0m /home/matt/.virtualenvs/100m-rl/lib/python3.7/site-packages/pandas/compat/__init__.py:85: UserWarning: Could not import the lzma module. Your installed Python is incomplete. Attempting to use lzma compression will result in a RuntimeError.\n",
      "\u001b[2m\u001b[36m(pid=24631)\u001b[0m   warnings.warn(msg)\n"
     ]
    }
   ],
   "source": [
    "trainer = ray.rllib.agents.a3c.A2CTrainer(\n",
    "    env=q1physrl.env.PhysEnv,\n",
    "    config={\"env_config\": {\"num_envs\": 100}, \"gamma\": 0.9}\n",
    ")"
   ]
  },
  {
   "cell_type": "code",
   "execution_count": 4,
   "metadata": {},
   "outputs": [
    {
     "name": "stderr",
     "output_type": "stream",
     "text": [
      "2020-01-29 09:41:37,031\tINFO trainable.py:346 -- Restored from checkpoint: /home/matt/ray_results/A2C_PhysEnv_2020-01-27_21-54-210mybah6w/checkpoint_38/checkpoint-38\n",
      "2020-01-29 09:41:37,034\tINFO trainable.py:353 -- Current state after restoring: {'_iteration': 38, '_timesteps_total': 1644200, '_time_total': 387.99199175834656, '_episodes_total': 4600}\n"
     ]
    }
   ],
   "source": [
    "# FNAME = '/home/matt/ray_results/A2C_PhysEnv_2020-01-26_18-30-58enaj6dzm/checkpoint_54/checkpoint-54'\n",
    "FNAME = '/home/matt/ray_results/A2C_PhysEnv_2020-01-27_21-54-210mybah6w/checkpoint_38/checkpoint-38'\n",
    "\n",
    "trainer.restore(FNAME)"
   ]
  },
  {
   "cell_type": "code",
   "execution_count": 5,
   "metadata": {},
   "outputs": [],
   "source": [
    "DEMO_FILE_NAME = \"wr3.dem\""
   ]
  },
  {
   "cell_type": "code",
   "execution_count": 6,
   "metadata": {},
   "outputs": [
    {
     "name": "stdout",
     "output_type": "stream",
     "text": [
      "\u001b[2m\u001b[36m(pid=21481)\u001b[0m /home/matt/.virtualenvs/100m-rl/lib/python3.7/site-packages/pandas/compat/__init__.py:85: UserWarning: Could not import the lzma module. Your installed Python is incomplete. Attempting to use lzma compression will result in a RuntimeError.\n",
      "\u001b[2m\u001b[36m(pid=21481)\u001b[0m   warnings.warn(msg)\n"
     ]
    }
   ],
   "source": [
    "import asyncio\n",
    "loop = asyncio.get_running_loop()\n",
    "task = loop.create_task(q1physrl.env.eval_coro(26000, trainer, DEMO_FILE_NAME))"
   ]
  },
  {
   "cell_type": "code",
   "execution_count": 7,
   "metadata": {},
   "outputs": [
    {
     "name": "stdout",
     "output_type": "stream",
     "text": [
      "\u001b[2m\u001b[36m(pid=21480)\u001b[0m /home/matt/.virtualenvs/100m-rl/lib/python3.7/site-packages/pandas/compat/__init__.py:85: UserWarning: Could not import the lzma module. Your installed Python is incomplete. Attempting to use lzma compression will result in a RuntimeError.\n",
      "\u001b[2m\u001b[36m(pid=21480)\u001b[0m   warnings.warn(msg)\n",
      "\u001b[2m\u001b[36m(pid=21481)\u001b[0m /home/matt/.virtualenvs/100m-rl/lib/python3.7/site-packages/pandas/compat/__init__.py:85: UserWarning: Could not import the lzma module. Your installed Python is incomplete. Attempting to use lzma compression will result in a RuntimeError.\n",
      "\u001b[2m\u001b[36m(pid=21481)\u001b[0m   warnings.warn(msg)\n",
      "\u001b[2m\u001b[36m(pid=21480)\u001b[0m /home/matt/.virtualenvs/100m-rl/lib/python3.7/site-packages/pandas/compat/__init__.py:85: UserWarning: Could not import the lzma module. Your installed Python is incomplete. Attempting to use lzma compression will result in a RuntimeError.\n",
      "\u001b[2m\u001b[36m(pid=21480)\u001b[0m   warnings.warn(msg)\n"
     ]
    },
    {
     "ename": "Exception",
     "evalue": "",
     "output_type": "error",
     "traceback": [
      "\u001b[0;31m---------------------------------------------------------------------------\u001b[0m",
      "\u001b[0;31mException\u001b[0m                                 Traceback (most recent call last)",
      "\u001b[0;32m<ipython-input-7-2aee0157c87b>\u001b[0m in \u001b[0;36m<module>\u001b[0;34m\u001b[0m\n\u001b[0;32m----> 1\u001b[0;31m \u001b[0;32mraise\u001b[0m \u001b[0mException\u001b[0m\u001b[0;34m\u001b[0m\u001b[0;34m\u001b[0m\u001b[0m\n\u001b[0m",
      "\u001b[0;31mException\u001b[0m: "
     ]
    }
   ],
   "source": [
    "raise Exception"
   ]
  },
  {
   "cell_type": "code",
   "execution_count": 8,
   "metadata": {},
   "outputs": [],
   "source": [
    "obs, action = task.result()"
   ]
  },
  {
   "cell_type": "code",
   "execution_count": 33,
   "metadata": {},
   "outputs": [],
   "source": [
    "env = q1physrl.env.PhysEnv({'num_envs': 1})\n",
    "o, = env.vector_reset()\n",
    "\n",
    "obs2= [o]\n",
    "\n",
    "for a in action:\n",
    "    (o,), _, _, _ = env.vector_step(a[None])\n",
    "    obs2.append(o)\n",
    "    \n",
    "obs2 = np.stack(obs2[:-1])    "
   ]
  },
  {
   "cell_type": "code",
   "execution_count": null,
   "metadata": {},
   "outputs": [],
   "source": [
    "# z velocity doesn't go to zero in real quake when we hit the floor?\n",
    "\n",
    "# Looks like over the network the z component is None when we hit the floor.  Look into why this is."
   ]
  },
  {
   "cell_type": "code",
   "execution_count": 51,
   "metadata": {},
   "outputs": [
    {
     "data": {
      "text/plain": [
       "[<matplotlib.lines.Line2D at 0x7efd0871bb00>]"
      ]
     },
     "execution_count": 51,
     "metadata": {},
     "output_type": "execute_result"
    },
    {
     "data": {
      "image/png": "[encoded data removed]",
      "text/plain": [
       "<Figure size 432x288 with 1 Axes>"
      ]
     },
     "metadata": {
      "needs_background": "light"
     },
     "output_type": "display_data"
    }
   ],
   "source": [
    "plt.plot(obs[:50, 4])\n",
    "plt.plot(obs2[:50, 4])"
   ]
  },
  {
   "cell_type": "code",
   "execution_count": 49,
   "metadata": {},
   "outputs": [
    {
     "name": "stdout",
     "output_type": "stream",
     "text": [
      "[[ 49.68000031  26.           0.          32.         -96.        ]\n",
      " [ 44.64000034  24.375       16.          32.         -96.        ]\n",
      " [ 39.60000038  24.          16.          32.         -96.        ]\n",
      " [ 34.56000042  24.          32.          64.         -96.        ]\n",
      " [ 29.52000046  24.          48.         112.         -96.        ]\n",
      " [ 24.4800005   24.          64.         144.         -96.        ]\n",
      " [ 24.4800005   24.          80.         176.         -96.        ]]\n",
      "[[  49.68000031   25.875         0.           32.          -96.        ]\n",
      " [  44.64000034   24.25         16.           32.         -112.        ]\n",
      " [  39.60000038   24.           16.           32.            0.        ]\n",
      " [  34.56000042   24.           32.           64.            0.        ]\n",
      " [  29.52000046   24.           48.          112.            0.        ]\n",
      " [  24.4800005    24.           48.          144.            0.        ]\n",
      " [  24.4800005    24.           64.          176.            0.        ]]\n"
     ]
    }
   ],
   "source": [
    "print(obs[8:15])\n",
    "print(obs2[8:15])"
   ]
  },
  {
   "cell_type": "code",
   "execution_count": 47,
   "metadata": {},
   "outputs": [
    {
     "data": {
      "text/plain": [
       "0.0"
      ]
     },
     "execution_count": 47,
     "metadata": {},
     "output_type": "execute_result"
    }
   ],
   "source": [
    "obs2[10, 4]"
   ]
  },
  {
   "cell_type": "code",
   "execution_count": 45,
   "metadata": {},
   "outputs": [
    {
     "data": {
      "text/plain": [
       "4"
      ]
     },
     "execution_count": 45,
     "metadata": {},
     "output_type": "execute_result"
    }
   ],
   "source": [
    "np.argmax(np.abs(obs - obs2), axis=1)[10, 4]"
   ]
  },
  {
   "cell_type": "code",
   "execution_count": 35,
   "metadata": {},
   "outputs": [
    {
     "data": {
      "text/plain": [
       "[<matplotlib.lines.Line2D at 0x7efd08779cc0>]"
      ]
     },
     "execution_count": 35,
     "metadata": {},
     "output_type": "execute_result"
    },
    {
     "data": {
      "image/png": "[encoded data removed]",
      "text/plain": [
       "<Figure size 432x288 with 1 Axes>"
      ]
     },
     "metadata": {
      "needs_background": "light"
     },
     "output_type": "display_data"
    }
   ],
   "source": [
    "plt.xlim(0, 20)\n",
    "plt.plot(np.max(np.abs(obs - obs2), axis=1))"
   ]
  },
  {
   "cell_type": "code",
   "execution_count": 23,
   "metadata": {},
   "outputs": [
    {
     "data": {
      "text/plain": [
       "array([[ 90.        ,  32.875     ,   0.        ,   0.        ,\n",
       "          0.        ],\n",
       "       [ 84.96000004,  32.5       , -16.        ,  16.        ,\n",
       "        -16.        ],\n",
       "       [ 79.92000008,  32.        , -16.        ,  16.        ,\n",
       "        -32.        ],\n",
       "       ...,\n",
       "       [ 14.40000057,  24.        , 240.        , 208.        ,\n",
       "          0.        ],\n",
       "       [  9.36000061,  24.        , 240.        , 208.        ,\n",
       "          0.        ],\n",
       "       [ 14.40000057,  24.        , 240.        , 208.        ,\n",
       "          0.        ]])"
      ]
     },
     "execution_count": 23,
     "metadata": {},
     "output_type": "execute_result"
    }
   ],
   "source": [
    "obs2"
   ]
  },
  {
   "cell_type": "code",
   "execution_count": 17,
   "metadata": {},
   "outputs": [
    {
     "data": {
      "text/plain": [
       "[<matplotlib.lines.Line2D at 0x7efd5c1ea278>]"
      ]
     },
     "execution_count": 17,
     "metadata": {},
     "output_type": "execute_result"
    },
    {
     "data": {
      "image/png": "[encoded data removed]",
      "text/plain": [
       "<Figure size 432x288 with 1 Axes>"
      ]
     },
     "metadata": {
      "needs_background": "light"
     },
     "output_type": "display_data"
    }
   ],
   "source": [
    "import numpy as np\n",
    "plt.plot(np.linalg.norm(obs[:, 2:], axis=1))\n",
    "plt.plot(obs[:, 3])"
   ]
  },
  {
   "cell_type": "code",
   "execution_count": 9,
   "metadata": {
    "scrolled": false
   },
   "outputs": [
    {
     "name": "stderr",
     "output_type": "stream",
     "text": [
      "ERROR:asyncio:Task was destroyed but it is pending!\n",
      "task: <Task pending coro=<AsyncClient._read_messages() running at /home/matt/pyquake/pyquake/client.py:215> wait_for=<Future pending cb=[<TaskWakeupMethWrapper object at 0x7efe04211af8>()]> cb=[AsyncClient.connect.<locals>.<lambda>() at /home/matt/pyquake/pyquake/client.py:303]>\n"
     ]
    },
    {
     "data": {
      "text/plain": [
       "<matplotlib.axes._subplots.AxesSubplot at 0x7efd5c6f9198>"
      ]
     },
     "execution_count": 9,
     "metadata": {},
     "output_type": "execute_result"
    },
    {
     "data": {
      "image/png": "[encoded data removed]",
      "text/plain": [
       "<Figure size 432x288 with 1 Axes>"
      ]
     },
     "metadata": {
      "needs_background": "light"
     },
     "output_type": "display_data"
    }
   ],
   "source": [
    "import pandas as pd\n",
    "pd.DataFrame({'observed yaw': obs[:, 0], 'yaw action': 90 + (action[:, 0] - 1).cumsum() * 360 * 0.014}).plot()"
   ]
  },
  {
   "cell_type": "code",
   "execution_count": null,
   "metadata": {},
   "outputs": [],
   "source": [
    "view_entity = None\n",
    "origin = None\n",
    "origins = []\n",
    "times = []\n",
    "\n",
    "time = None\n",
    "\n",
    "def patch_vec(old_vec, update):\n",
    "    return tuple(v if u is None else u for v, u in zip(old_vec, update))\n",
    "\n",
    "with open(DEMO_FILE_NAME, 'rb') as f:\n",
    "    for angles, msg in pyquake.proto.read_demo_file(f):\n",
    "        if msg.msg_type == pyquake.proto.ServerMessageType.SETVIEW:\n",
    "            view_entity = msg.viewentity\n",
    "        if (msg.msg_type == pyquake.proto.ServerMessageType.SPAWNBASELINE and\n",
    "                msg.entity_num == view_entity):\n",
    "            origin = msg.origin\n",
    "        if (msg.msg_type == pyquake.proto.ServerMessageType.UPDATE and\n",
    "                msg.entity_num == view_entity):\n",
    "            origin = patch_vec(origin, msg.origin)\n",
    "            origins.append(origin)\n",
    "            times.append(time)\n",
    "        if msg.msg_type == pyquake.proto.ServerMessageType.TIME:\n",
    "            time = msg.time"
   ]
  },
  {
   "cell_type": "code",
   "execution_count": null,
   "metadata": {},
   "outputs": [],
   "source": [
    "import numpy as np\n",
    "np.diff(np.array([o[1] for o in origins])[-100:]).mean() / 0.014"
   ]
  },
  {
   "cell_type": "code",
   "execution_count": null,
   "metadata": {},
   "outputs": [
    {
     "name": "stdout",
     "output_type": "stream",
     "text": [
      "observed angle = 1.5707963267948966 radians (90.0 degrees)\n",
      "observed angle = 1.4828317331601726 radians (84.96000003814697 degrees)\n",
      "observed angle = 1.3948671395254488 radians (79.92000007629396 degrees)\n",
      "observed angle = 1.306902545890725 radians (74.88000011444093 degrees)\n",
      "observed angle = 1.218937952256001 radians (69.8400001525879 degrees)\n",
      "observed angle = 1.1309733586212771 radians (64.80000019073488 degrees)\n",
      "observed angle = 1.0430087649865531 radians (59.76000022888185 degrees)\n",
      "observed angle = 0.9550441713518293 radians (54.72000026702882 degrees)\n",
      "observed angle = 0.8670795777171053 radians (49.680000305175795 degrees)\n",
      "observed angle = 0.7791149840823814 radians (44.64000034332277 degrees)\n",
      "observed angle = 0.6911503904476575 radians (39.60000038146974 degrees)\n",
      "observed angle = 0.6031857968129335 radians (34.56000041961671 degrees)\n",
      "observed angle = 0.5152212031782096 radians (29.520000457763686 degrees)\n",
      "observed angle = 0.42725660954348565 radians (24.48000049591066 degrees)\n",
      "observed angle = 0.42725660954348565 radians (24.48000049591066 degrees)\n",
      "observed angle = 0.33929201590876173 radians (19.44000053405763 degrees)\n",
      "observed angle = 0.2513274222740378 radians (14.400000572204606 degrees)\n",
      "observed angle = 0.1633628286393139 radians (9.36000061035158 degrees)\n",
      "observed angle = 0.07539823500458998 radians (4.320000648498553 degrees)\n",
      "observed angle = 0.16336282863931392 radians (9.36000061035158 degrees)\n",
      "observed angle = 0.25132742227403787 radians (14.400000572204608 degrees)\n",
      "observed angle = 0.16336282863931392 radians (9.36000061035158 degrees)\n",
      "observed angle = 0.07539823500458998 radians (4.320000648498553 degrees)\n",
      "observed angle = 0.16336282863931392 radians (9.36000061035158 degrees)\n",
      "observed angle = 0.07539823500458998 radians (4.320000648498553 degrees)\n",
      "observed angle = -0.012566358630133957 radians (-0.7199993133544743 degrees)\n",
      "observed angle = -0.10053095226485789 radians (-5.759999275207502 degrees)\n",
      "observed angle = -0.18849554589958184 radians (-10.79999923706053 degrees)\n",
      "observed angle = -0.2764601395343058 radians (-15.839999198913558 degrees)\n",
      "observed angle = -0.18849554589958187 radians (-10.799999237060533 degrees)\n",
      "observed angle = -0.10053095226485796 radians (-5.759999275207506 degrees)\n",
      "observed angle = -0.012566358630134035 radians (-0.7199993133544789 degrees)\n",
      "observed angle = -0.10053095226485798 radians (-5.759999275207506 degrees)\n",
      "observed angle = -0.012566358630134035 radians (-0.7199993133544789 degrees)\n",
      "observed angle = 0.0753982350045899 radians (4.3200006484985485 degrees)\n",
      "observed angle = 0.16336282863931387 radians (9.360000610351577 degrees)\n",
      "observed angle = 0.07539823500458992 radians (4.320000648498549 degrees)\n",
      "observed angle = -0.01256635863013402 radians (-0.719999313354478 degrees)\n",
      "observed angle = 0.07539823500458992 radians (4.320000648498549 degrees)\n",
      "observed angle = 0.16336282863931387 radians (9.360000610351577 degrees)\n",
      "observed angle = 0.2513274222740378 radians (14.400000572204606 degrees)\n",
      "observed angle = 0.33929201590876173 radians (19.44000053405763 degrees)\n",
      "observed angle = 0.42725660954348565 radians (24.48000049591066 degrees)\n",
      "observed angle = 0.5152212031782096 radians (29.520000457763686 degrees)\n",
      "observed angle = 0.42725660954348565 radians (24.48000049591066 degrees)\n",
      "observed angle = 0.42725660954348565 radians (24.48000049591066 degrees)\n",
      "observed angle = 0.33929201590876173 radians (19.44000053405763 degrees)\n",
      "observed angle = 0.2513274222740378 radians (14.400000572204606 degrees)\n",
      "observed angle = 0.33929201590876173 radians (19.44000053405763 degrees)\n",
      "observed angle = 0.2513274222740378 radians (14.400000572204606 degrees)\n",
      "observed angle = 0.1633628286393139 radians (9.36000061035158 degrees)\n",
      "observed angle = 0.07539823500458998 radians (4.320000648498553 degrees)\n",
      "observed angle = -0.012566358630133957 radians (-0.7199993133544743 degrees)\n",
      "observed angle = -0.10053095226485789 radians (-5.759999275207502 degrees)\n",
      "observed angle = -0.10053095226485789 radians (-5.759999275207502 degrees)\n",
      "observed angle = -0.012566358630133957 radians (-0.7199993133544743 degrees)\n",
      "observed angle = -0.10053095226485789 radians (-5.759999275207502 degrees)\n",
      "observed angle = -0.012566358630133957 radians (-0.7199993133544743 degrees)\n",
      "observed angle = 0.07539823500458998 radians (4.320000648498553 degrees)\n",
      "observed angle = 0.16336282863931392 radians (9.36000061035158 degrees)\n",
      "observed angle = 0.07539823500458998 radians (4.320000648498553 degrees)\n",
      "observed angle = 0.16336282863931392 radians (9.36000061035158 degrees)\n",
      "observed angle = 0.25132742227403787 radians (14.400000572204608 degrees)\n",
      "observed angle = 0.16336282863931392 radians (9.36000061035158 degrees)\n",
      "observed angle = 0.16336282863931392 radians (9.36000061035158 degrees)\n",
      "observed angle = 0.25132742227403787 radians (14.400000572204608 degrees)\n",
      "observed angle = 0.16336282863931392 radians (9.36000061035158 degrees)\n",
      "observed angle = 0.25132742227403787 radians (14.400000572204608 degrees)\n",
      "observed angle = 0.16336282863931392 radians (9.36000061035158 degrees)\n",
      "observed angle = 0.07539823500458998 radians (4.320000648498553 degrees)\n",
      "observed angle = 0.16336282863931392 radians (9.36000061035158 degrees)\n",
      "observed angle = 0.25132742227403787 radians (14.400000572204608 degrees)\n",
      "observed angle = 0.16336282863931392 radians (9.36000061035158 degrees)\n",
      "observed angle = 0.07539823500458998 radians (4.320000648498553 degrees)\n",
      "observed angle = -0.012566358630133957 radians (-0.7199993133544743 degrees)\n",
      "observed angle = 0.07539823500458998 radians (4.320000648498553 degrees)\n",
      "observed angle = 0.16336282863931392 radians (9.36000061035158 degrees)\n",
      "observed angle = 0.25132742227403787 radians (14.400000572204608 degrees)\n",
      "observed angle = 0.3392920159087618 radians (19.440000534057635 degrees)\n",
      "observed angle = 0.4272566095434857 radians (24.480000495910662 degrees)\n",
      "observed angle = 0.3392920159087618 radians (19.440000534057635 degrees)\n",
      "observed angle = 0.25132742227403787 radians (14.400000572204608 degrees)\n",
      "observed angle = 0.16336282863931392 radians (9.36000061035158 degrees)\n",
      "observed angle = 0.25132742227403787 radians (14.400000572204608 degrees)\n",
      "observed angle = 0.3392920159087618 radians (19.440000534057635 degrees)\n",
      "observed angle = 0.25132742227403787 radians (14.400000572204608 degrees)\n",
      "observed angle = 0.3392920159087618 radians (19.440000534057635 degrees)\n",
      "observed angle = 0.25132742227403787 radians (14.400000572204608 degrees)\n",
      "observed angle = 0.16336282863931392 radians (9.36000061035158 degrees)\n",
      "observed angle = 0.25132742227403787 radians (14.400000572204608 degrees)\n",
      "observed angle = 0.25132742227403787 radians (14.400000572204608 degrees)\n",
      "observed angle = 0.16336282863931392 radians (9.36000061035158 degrees)\n",
      "observed angle = 0.07539823500458998 radians (4.320000648498553 degrees)\n",
      "observed angle = 0.16336282863931392 radians (9.36000061035158 degrees)\n",
      "observed angle = 0.07539823500458998 radians (4.320000648498553 degrees)\n",
      "observed angle = -0.012566358630133957 radians (-0.7199993133544743 degrees)\n",
      "observed angle = 0.07539823500458998 radians (4.320000648498553 degrees)\n",
      "observed angle = -0.012566358630133957 radians (-0.7199993133544743 degrees)\n",
      "observed angle = 0.07539823500458998 radians (4.320000648498553 degrees)\n",
      "observed angle = 0.07539823500458998 radians (4.320000648498553 degrees)\n",
      "observed angle = 0.16336282863931392 radians (9.36000061035158 degrees)\n",
      "observed angle = 0.25132742227403787 radians (14.400000572204608 degrees)\n",
      "observed angle = 0.25132742227403787 radians (14.400000572204608 degrees)\n",
      "observed angle = 0.16336282863931392 radians (9.36000061035158 degrees)\n",
      "observed angle = 0.25132742227403787 radians (14.400000572204608 degrees)\n",
      "observed angle = 0.3392920159087618 radians (19.440000534057635 degrees)\n",
      "observed angle = 0.25132742227403787 radians (14.400000572204608 degrees)\n",
      "observed angle = 0.16336282863931392 radians (9.36000061035158 degrees)\n",
      "observed angle = 0.07539823500458998 radians (4.320000648498553 degrees)\n",
      "observed angle = -0.012566358630133957 radians (-0.7199993133544743 degrees)\n",
      "observed angle = 0.07539823500458998 radians (4.320000648498553 degrees)\n",
      "observed angle = 0.16336282863931392 radians (9.36000061035158 degrees)\n",
      "observed angle = 0.25132742227403787 radians (14.400000572204608 degrees)\n",
      "observed angle = 0.3392920159087618 radians (19.440000534057635 degrees)\n",
      "observed angle = 0.25132742227403787 radians (14.400000572204608 degrees)\n",
      "observed angle = 0.16336282863931392 radians (9.36000061035158 degrees)\n",
      "observed angle = 0.07539823500458998 radians (4.320000648498553 degrees)\n",
      "observed angle = -0.012566358630133957 radians (-0.7199993133544743 degrees)\n",
      "observed angle = -0.10053095226485789 radians (-5.759999275207502 degrees)\n",
      "observed angle = -0.012566358630133957 radians (-0.7199993133544743 degrees)\n",
      "observed angle = -0.10053095226485789 radians (-5.759999275207502 degrees)\n",
      "observed angle = -0.012566358630133957 radians (-0.7199993133544743 degrees)\n",
      "observed angle = 0.07539823500458998 radians (4.320000648498553 degrees)\n",
      "observed angle = 0.16336282863931392 radians (9.36000061035158 degrees)\n",
      "observed angle = 0.25132742227403787 radians (14.400000572204608 degrees)\n",
      "observed angle = 0.16336282863931392 radians (9.36000061035158 degrees)\n",
      "observed angle = 0.25132742227403787 radians (14.400000572204608 degrees)\n",
      "observed angle = 0.16336282863931392 radians (9.36000061035158 degrees)\n",
      "observed angle = 0.07539823500458998 radians (4.320000648498553 degrees)\n",
      "observed angle = 0.16336282863931392 radians (9.36000061035158 degrees)\n",
      "observed angle = 0.07539823500458998 radians (4.320000648498553 degrees)\n",
      "observed angle = -0.012566358630133957 radians (-0.7199993133544743 degrees)\n",
      "observed angle = 0.07539823500458998 radians (4.320000648498553 degrees)\n",
      "observed angle = 0.16336282863931392 radians (9.36000061035158 degrees)\n",
      "observed angle = 0.07539823500458998 radians (4.320000648498553 degrees)\n",
      "observed angle = -0.012566358630133957 radians (-0.7199993133544743 degrees)\n",
      "observed angle = -0.10053095226485789 radians (-5.759999275207502 degrees)\n"
     ]
    },
    {
     "name": "stdout",
     "output_type": "stream",
     "text": [
      "observed angle = -0.012566358630133957 radians (-0.7199993133544743 degrees)\n",
      "observed angle = 0.07539823500458998 radians (4.320000648498553 degrees)\n",
      "observed angle = 0.16336282863931392 radians (9.36000061035158 degrees)\n",
      "observed angle = 0.25132742227403787 radians (14.400000572204608 degrees)\n",
      "observed angle = 0.3392920159087618 radians (19.440000534057635 degrees)\n",
      "observed angle = 0.4272566095434857 radians (24.480000495910662 degrees)\n",
      "observed angle = 0.3392920159087618 radians (19.440000534057635 degrees)\n",
      "observed angle = 0.4272566095434857 radians (24.480000495910662 degrees)\n",
      "observed angle = 0.3392920159087618 radians (19.440000534057635 degrees)\n",
      "observed angle = 0.4272566095434857 radians (24.480000495910662 degrees)\n",
      "observed angle = 0.4272566095434857 radians (24.480000495910662 degrees)\n",
      "observed angle = 0.5152212031782096 radians (29.520000457763686 degrees)\n",
      "observed angle = 0.42725660954348565 radians (24.48000049591066 degrees)\n",
      "observed angle = 0.33929201590876173 radians (19.44000053405763 degrees)\n",
      "observed angle = 0.42725660954348565 radians (24.48000049591066 degrees)\n",
      "observed angle = 0.5152212031782096 radians (29.520000457763686 degrees)\n",
      "observed angle = 0.42725660954348565 radians (24.48000049591066 degrees)\n",
      "observed angle = 0.33929201590876173 radians (19.44000053405763 degrees)\n",
      "observed angle = 0.2513274222740378 radians (14.400000572204606 degrees)\n",
      "observed angle = 0.33929201590876173 radians (19.44000053405763 degrees)\n",
      "observed angle = 0.42725660954348565 radians (24.48000049591066 degrees)\n",
      "observed angle = 0.5152212031782096 radians (29.520000457763686 degrees)\n",
      "observed angle = 0.5152212031782096 radians (29.520000457763686 degrees)\n",
      "observed angle = 0.42725660954348565 radians (24.48000049591066 degrees)\n",
      "observed angle = 0.33929201590876173 radians (19.44000053405763 degrees)\n",
      "observed angle = 0.2513274222740378 radians (14.400000572204606 degrees)\n",
      "observed angle = 0.1633628286393139 radians (9.36000061035158 degrees)\n",
      "observed angle = 0.07539823500458998 radians (4.320000648498553 degrees)\n",
      "observed angle = -0.012566358630133957 radians (-0.7199993133544743 degrees)\n",
      "observed angle = -0.10053095226485789 radians (-5.759999275207502 degrees)\n",
      "observed angle = -0.18849554589958184 radians (-10.79999923706053 degrees)\n",
      "observed angle = -0.10053095226485792 radians (-5.7599992752075035 degrees)\n",
      "observed angle = -0.18849554589958187 radians (-10.799999237060533 degrees)\n",
      "observed angle = -0.10053095226485796 radians (-5.759999275207506 degrees)\n",
      "observed angle = -0.012566358630134035 radians (-0.7199993133544789 degrees)\n",
      "observed angle = 0.0753982350045899 radians (4.3200006484985485 degrees)\n",
      "observed angle = 0.16336282863931387 radians (9.360000610351577 degrees)\n",
      "observed angle = 0.2513274222740378 radians (14.400000572204606 degrees)\n",
      "observed angle = 0.1633628286393139 radians (9.36000061035158 degrees)\n",
      "observed angle = 0.07539823500458998 radians (4.320000648498553 degrees)\n",
      "observed angle = 0.16336282863931392 radians (9.36000061035158 degrees)\n",
      "observed angle = 0.25132742227403787 radians (14.400000572204608 degrees)\n",
      "observed angle = 0.3392920159087618 radians (19.440000534057635 degrees)\n",
      "observed angle = 0.4272566095434857 radians (24.480000495910662 degrees)\n",
      "observed angle = 0.3392920159087618 radians (19.440000534057635 degrees)\n",
      "observed angle = 0.25132742227403787 radians (14.400000572204608 degrees)\n",
      "observed angle = 0.16336282863931392 radians (9.36000061035158 degrees)\n",
      "observed angle = 0.07539823500458998 radians (4.320000648498553 degrees)\n",
      "observed angle = 0.16336282863931392 radians (9.36000061035158 degrees)\n",
      "observed angle = 0.07539823500458998 radians (4.320000648498553 degrees)\n",
      "observed angle = 0.16336282863931392 radians (9.36000061035158 degrees)\n",
      "observed angle = 0.25132742227403787 radians (14.400000572204608 degrees)\n",
      "observed angle = 0.16336282863931392 radians (9.36000061035158 degrees)\n",
      "observed angle = 0.25132742227403787 radians (14.400000572204608 degrees)\n",
      "observed angle = 0.16336282863931392 radians (9.36000061035158 degrees)\n",
      "observed angle = 0.25132742227403787 radians (14.400000572204608 degrees)\n",
      "observed angle = 0.16336282863931392 radians (9.36000061035158 degrees)\n",
      "observed angle = 0.07539823500458998 radians (4.320000648498553 degrees)\n",
      "observed angle = -0.012566358630133957 radians (-0.7199993133544743 degrees)\n",
      "observed angle = -0.10053095226485789 radians (-5.759999275207502 degrees)\n",
      "observed angle = -0.18849554589958184 radians (-10.79999923706053 degrees)\n",
      "observed angle = -0.18849554589958187 radians (-10.799999237060533 degrees)\n",
      "observed angle = -0.10053095226485796 radians (-5.759999275207506 degrees)\n",
      "observed angle = -0.012566358630134035 radians (-0.7199993133544789 degrees)\n",
      "observed angle = -0.10053095226485798 radians (-5.759999275207506 degrees)\n",
      "observed angle = -0.1884955458995819 radians (-10.799999237060533 degrees)\n",
      "observed angle = -0.10053095226485796 radians (-5.759999275207506 degrees)\n",
      "observed angle = -0.1884955458995819 radians (-10.799999237060533 degrees)\n",
      "observed angle = -0.2764601395343058 radians (-15.839999198913558 degrees)\n",
      "observed angle = -0.18849554589958187 radians (-10.799999237060533 degrees)\n",
      "observed angle = -0.10053095226485796 radians (-5.759999275207506 degrees)\n",
      "observed angle = -0.1884955458995819 radians (-10.799999237060533 degrees)\n",
      "observed angle = -0.10053095226485796 radians (-5.759999275207506 degrees)\n",
      "observed angle = -0.1884955458995819 radians (-10.799999237060533 degrees)\n",
      "observed angle = -0.10053095226485796 radians (-5.759999275207506 degrees)\n",
      "observed angle = -0.012566358630134035 radians (-0.7199993133544789 degrees)\n",
      "observed angle = 0.0753982350045899 radians (4.3200006484985485 degrees)\n",
      "observed angle = 0.16336282863931387 radians (9.360000610351577 degrees)\n",
      "observed angle = 0.07539823500458992 radians (4.320000648498549 degrees)\n",
      "observed angle = -0.01256635863013402 radians (-0.719999313354478 degrees)\n",
      "observed angle = 0.07539823500458992 radians (4.320000648498549 degrees)\n",
      "observed angle = 0.07539823500458992 radians (4.320000648498549 degrees)\n",
      "observed angle = -0.01256635863013402 radians (-0.719999313354478 degrees)\n",
      "observed angle = -0.10053095226485796 radians (-5.759999275207506 degrees)\n",
      "observed angle = -0.012566358630134035 radians (-0.7199993133544789 degrees)\n",
      "observed angle = 0.0753982350045899 radians (4.3200006484985485 degrees)\n",
      "observed angle = -0.012566358630134035 radians (-0.7199993133544789 degrees)\n",
      "observed angle = 0.0753982350045899 radians (4.3200006484985485 degrees)\n",
      "observed angle = 0.16336282863931387 radians (9.360000610351577 degrees)\n",
      "observed angle = 0.07539823500458992 radians (4.320000648498549 degrees)\n",
      "observed angle = -0.01256635863013402 radians (-0.719999313354478 degrees)\n",
      "observed angle = 0.07539823500458992 radians (4.320000648498549 degrees)\n",
      "observed angle = -0.01256635863013402 radians (-0.719999313354478 degrees)\n",
      "observed angle = -0.10053095226485796 radians (-5.759999275207506 degrees)\n",
      "observed angle = -0.1884955458995819 radians (-10.799999237060533 degrees)\n",
      "observed angle = -0.2764601395343058 radians (-15.839999198913558 degrees)\n",
      "observed angle = -0.2764601395343058 radians (-15.839999198913558 degrees)\n",
      "observed angle = -0.18849554589958187 radians (-10.799999237060533 degrees)\n",
      "observed angle = -0.1884955458995819 radians (-10.799999237060533 degrees)\n",
      "observed angle = -0.10053095226485796 radians (-5.759999275207506 degrees)\n",
      "observed angle = -0.012566358630134035 radians (-0.7199993133544789 degrees)\n",
      "observed angle = 0.0753982350045899 radians (4.3200006484985485 degrees)\n",
      "observed angle = -0.012566358630134035 radians (-0.7199993133544789 degrees)\n",
      "observed angle = -0.10053095226485798 radians (-5.759999275207506 degrees)\n",
      "observed angle = -0.012566358630134035 radians (-0.7199993133544789 degrees)\n",
      "observed angle = 0.0753982350045899 radians (4.3200006484985485 degrees)\n",
      "observed angle = 0.16336282863931387 radians (9.360000610351577 degrees)\n",
      "observed angle = 0.2513274222740378 radians (14.400000572204606 degrees)\n",
      "observed angle = 0.1633628286393139 radians (9.36000061035158 degrees)\n",
      "observed angle = 0.07539823500458998 radians (4.320000648498553 degrees)\n",
      "observed angle = 0.16336282863931392 radians (9.36000061035158 degrees)\n",
      "observed angle = 0.25132742227403787 radians (14.400000572204608 degrees)\n",
      "observed angle = 0.16336282863931392 radians (9.36000061035158 degrees)\n",
      "observed angle = 0.25132742227403787 radians (14.400000572204608 degrees)\n"
     ]
    },
    {
     "name": "stdout",
     "output_type": "stream",
     "text": [
      "observed angle = 0.16336282863931392 radians (9.36000061035158 degrees)\n",
      "observed angle = 0.25132742227403787 radians (14.400000572204608 degrees)\n",
      "observed angle = 0.16336282863931392 radians (9.36000061035158 degrees)\n",
      "observed angle = 0.07539823500458998 radians (4.320000648498553 degrees)\n",
      "observed angle = -0.012566358630133957 radians (-0.7199993133544743 degrees)\n",
      "observed angle = -0.012566358630133955 radians (-0.7199993133544743 degrees)\n",
      "observed angle = 0.07539823500458998 radians (4.320000648498553 degrees)\n",
      "observed angle = 0.16336282863931392 radians (9.36000061035158 degrees)\n",
      "observed angle = 0.07539823500458998 radians (4.320000648498553 degrees)\n",
      "observed angle = 0.16336282863931392 radians (9.36000061035158 degrees)\n",
      "observed angle = 0.07539823500458998 radians (4.320000648498553 degrees)\n",
      "observed angle = 0.16336282863931392 radians (9.36000061035158 degrees)\n",
      "observed angle = 0.07539823500458998 radians (4.320000648498553 degrees)\n",
      "observed angle = 0.16336282863931392 radians (9.36000061035158 degrees)\n",
      "observed angle = 0.07539823500458998 radians (4.320000648498553 degrees)\n",
      "observed angle = 0.16336282863931392 radians (9.36000061035158 degrees)\n",
      "observed angle = 0.07539823500458998 radians (4.320000648498553 degrees)\n",
      "observed angle = 0.16336282863931392 radians (9.36000061035158 degrees)\n",
      "observed angle = 0.25132742227403787 radians (14.400000572204608 degrees)\n",
      "observed angle = 0.3392920159087618 radians (19.440000534057635 degrees)\n",
      "observed angle = 0.25132742227403787 radians (14.400000572204608 degrees)\n",
      "observed angle = 0.16336282863931392 radians (9.36000061035158 degrees)\n",
      "observed angle = 0.07539823500458998 radians (4.320000648498553 degrees)\n",
      "observed angle = 0.16336282863931392 radians (9.36000061035158 degrees)\n",
      "observed angle = 0.25132742227403787 radians (14.400000572204608 degrees)\n",
      "observed angle = 0.16336282863931392 radians (9.36000061035158 degrees)\n",
      "observed angle = 0.07539823500458998 radians (4.320000648498553 degrees)\n",
      "observed angle = -0.012566358630133957 radians (-0.7199993133544743 degrees)\n",
      "observed angle = 0.07539823500458998 radians (4.320000648498553 degrees)\n",
      "observed angle = -0.012566358630133957 radians (-0.7199993133544743 degrees)\n",
      "observed angle = 0.07539823500458998 radians (4.320000648498553 degrees)\n",
      "observed angle = 0.16336282863931392 radians (9.36000061035158 degrees)\n",
      "observed angle = 0.07539823500458998 radians (4.320000648498553 degrees)\n",
      "observed angle = 0.16336282863931392 radians (9.36000061035158 degrees)\n",
      "observed angle = 0.25132742227403787 radians (14.400000572204608 degrees)\n",
      "observed angle = 0.16336282863931392 radians (9.36000061035158 degrees)\n",
      "observed angle = 0.07539823500458998 radians (4.320000648498553 degrees)\n",
      "observed angle = 0.16336282863931392 radians (9.36000061035158 degrees)\n",
      "observed angle = 0.25132742227403787 radians (14.400000572204608 degrees)\n",
      "observed angle = 0.16336282863931392 radians (9.36000061035158 degrees)\n",
      "observed angle = 0.25132742227403787 radians (14.400000572204608 degrees)\n",
      "observed angle = 0.16336282863931392 radians (9.36000061035158 degrees)\n",
      "observed angle = 0.07539823500458998 radians (4.320000648498553 degrees)\n",
      "observed angle = 0.16336282863931392 radians (9.36000061035158 degrees)\n",
      "observed angle = 0.07539823500458998 radians (4.320000648498553 degrees)\n",
      "observed angle = 0.16336282863931392 radians (9.36000061035158 degrees)\n",
      "observed angle = 0.25132742227403787 radians (14.400000572204608 degrees)\n",
      "observed angle = 0.16336282863931392 radians (9.36000061035158 degrees)\n",
      "observed angle = 0.07539823500458998 radians (4.320000648498553 degrees)\n",
      "observed angle = 0.16336282863931392 radians (9.36000061035158 degrees)\n",
      "observed angle = 0.07539823500458998 radians (4.320000648498553 degrees)\n",
      "observed angle = 0.16336282863931392 radians (9.36000061035158 degrees)\n",
      "observed angle = 0.07539823500458998 radians (4.320000648498553 degrees)\n",
      "observed angle = 0.16336282863931392 radians (9.36000061035158 degrees)\n",
      "observed angle = 0.07539823500458998 radians (4.320000648498553 degrees)\n",
      "observed angle = 0.16336282863931392 radians (9.36000061035158 degrees)\n",
      "observed angle = 0.07539823500458998 radians (4.320000648498553 degrees)\n",
      "observed angle = 0.16336282863931392 radians (9.36000061035158 degrees)\n",
      "observed angle = 0.07539823500458998 radians (4.320000648498553 degrees)\n",
      "observed angle = 0.16336282863931392 radians (9.36000061035158 degrees)\n",
      "observed angle = 0.07539823500458998 radians (4.320000648498553 degrees)\n",
      "observed angle = 0.16336282863931392 radians (9.36000061035158 degrees)\n",
      "observed angle = 0.16336282863931392 radians (9.36000061035158 degrees)\n",
      "observed angle = 0.07539823500458998 radians (4.320000648498553 degrees)\n",
      "observed angle = 0.16336282863931392 radians (9.36000061035158 degrees)\n",
      "observed angle = 0.16336282863931392 radians (9.36000061035158 degrees)\n",
      "observed angle = 0.16336282863931392 radians (9.36000061035158 degrees)\n",
      "observed angle = 0.07539823500458998 radians (4.320000648498553 degrees)\n",
      "observed angle = 0.16336282863931392 radians (9.36000061035158 degrees)\n",
      "observed angle = 0.25132742227403787 radians (14.400000572204608 degrees)\n",
      "observed angle = 0.16336282863931392 radians (9.36000061035158 degrees)\n",
      "observed angle = 0.07539823500458998 radians (4.320000648498553 degrees)\n",
      "observed angle = 0.16336282863931392 radians (9.36000061035158 degrees)\n",
      "observed angle = 0.07539823500458998 radians (4.320000648498553 degrees)\n",
      "observed angle = 0.07539823500458998 radians (4.320000648498553 degrees)\n",
      "observed angle = -0.012566358630133957 radians (-0.7199993133544743 degrees)\n",
      "observed angle = 0.07539823500458998 radians (4.320000648498553 degrees)\n",
      "observed angle = -0.012566358630133957 radians (-0.7199993133544743 degrees)\n",
      "observed angle = -0.10053095226485789 radians (-5.759999275207502 degrees)\n",
      "observed angle = -0.18849554589958184 radians (-10.79999923706053 degrees)\n",
      "observed angle = -0.10053095226485792 radians (-5.7599992752075035 degrees)\n",
      "observed angle = -0.18849554589958187 radians (-10.799999237060533 degrees)\n",
      "observed angle = -0.2764601395343058 radians (-15.839999198913558 degrees)\n",
      "observed angle = -0.3644247331690298 radians (-20.87999916076659 degrees)\n",
      "observed angle = -0.27646013953430587 radians (-15.839999198913564 degrees)\n",
      "observed angle = -0.18849554589958195 radians (-10.799999237060536 degrees)\n",
      "observed angle = -0.18849554589958195 radians (-10.799999237060536 degrees)\n",
      "observed angle = -0.27646013953430587 radians (-15.839999198913564 degrees)\n",
      "observed angle = -0.36442473316902985 radians (-20.879999160766594 degrees)\n",
      "observed angle = -0.2764601395343059 radians (-15.839999198913565 degrees)\n",
      "observed angle = -0.18849554589958198 radians (-10.799999237060536 degrees)\n",
      "observed angle = -0.27646013953430587 radians (-15.839999198913564 degrees)\n",
      "observed angle = -0.18849554589958195 radians (-10.799999237060536 degrees)\n",
      "observed angle = -0.10053095226485802 radians (-5.759999275207508 degrees)\n",
      "observed angle = -0.18849554589958195 radians (-10.799999237060536 degrees)\n",
      "observed angle = -0.10053095226485802 radians (-5.759999275207508 degrees)\n",
      "observed angle = -0.18849554589958195 radians (-10.799999237060536 degrees)\n",
      "observed angle = -0.10053095226485802 radians (-5.759999275207508 degrees)\n",
      "observed angle = -0.012566358630134066 radians (-0.7199993133544808 degrees)\n",
      "observed angle = 0.07539823500458986 radians (4.320000648498547 degrees)\n",
      "observed angle = 0.07539823500458986 radians (4.320000648498547 degrees)\n",
      "observed angle = 0.16336282863931378 radians (9.360000610351573 degrees)\n",
      "observed angle = 0.07539823500458985 radians (4.320000648498546 degrees)\n",
      "observed angle = 0.16336282863931378 radians (9.360000610351573 degrees)\n",
      "observed angle = 0.2513274222740377 radians (14.400000572204599 degrees)\n",
      "observed angle = 0.2513274222740377 radians (14.400000572204599 degrees)\n",
      "observed angle = 0.16336282863931376 radians (9.360000610351571 degrees)\n"
     ]
    }
   ],
   "source": [
    "plt.plot(times, [o[1] for o in origins])"
   ]
  }
 ],
 "metadata": {
  "kernelspec": {
   "display_name": "Python 3",
   "language": "python",
   "name": "python3"
  },
  "language_info": {
   "codemirror_mode": {
    "name": "ipython",
    "version": 3
   },
   "file_extension": ".py",
   "mimetype": "text/x-python",
   "name": "python",
   "nbconvert_exporter": "python",
   "pygments_lexer": "ipython3",
   "version": "3.7.1"
  }
 },
 "nbformat": 4,
 "nbformat_minor": 4
}
