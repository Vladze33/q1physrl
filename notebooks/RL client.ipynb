{
 "cells": [
  {
   "cell_type": "code",
   "execution_count": 1,
   "metadata": {},
   "outputs": [
    {
     "name": "stderr",
     "output_type": "stream",
     "text": [
      "/home/matt/.virtualenvs/100m-rl/lib/python3.7/site-packages/pandas/compat/__init__.py:85: UserWarning: Could not import the lzma module. Your installed Python is incomplete. Attempting to use lzma compression will result in a RuntimeError.\n",
      "  warnings.warn(msg)\n"
     ]
    }
   ],
   "source": [
    "import numpy as np\n",
    "import matplotlib.pyplot as plt\n",
    "import ray\n",
    "import ray.rllib\n",
    "\n",
    "import pyquake.proto\n",
    "import q1physrl.env\n",
    "import q1physrl.train"
   ]
  },
  {
   "cell_type": "code",
   "execution_count": 2,
   "metadata": {},
   "outputs": [
    {
     "name": "stderr",
     "output_type": "stream",
     "text": [
      "2020-03-03 19:48:28,438\tINFO resource_spec.py:212 -- Starting Ray with 1.71 GiB memory available for workers and up to 0.87 GiB for objects. You can adjust these settings with ray.init(memory=<bytes>, object_store_memory=<bytes>).\n",
      "2020-03-03 19:48:28,854\tINFO services.py:1083 -- View the Ray dashboard at \u001b[1m\u001b[32mlocalhost:8265\u001b[39m\u001b[22m\n"
     ]
    },
    {
     "data": {
      "text/plain": [
       "{'node_ip_address': '192.168.178.24',\n",
       " 'redis_address': '192.168.178.24:38588',\n",
       " 'object_store_address': '/tmp/ray/session_2020-03-03_19-48-28_373758_24967/sockets/plasma_store',\n",
       " 'raylet_socket_name': '/tmp/ray/session_2020-03-03_19-48-28_373758_24967/sockets/raylet',\n",
       " 'webui_url': 'localhost:8265',\n",
       " 'session_dir': '/tmp/ray/session_2020-03-03_19-48-28_373758_24967'}"
      ]
     },
     "execution_count": 2,
     "metadata": {},
     "output_type": "execute_result"
    }
   ],
   "source": [
    "ray.init()"
   ]
  },
  {
   "cell_type": "code",
   "execution_count": 3,
   "metadata": {},
   "outputs": [
    {
     "name": "stderr",
     "output_type": "stream",
     "text": [
      "2020-03-03 19:48:29,378\tINFO trainer.py:420 -- Tip: set 'eager': true or the --eager flag to enable TensorFlow eager execution\n",
      "2020-03-03 19:48:29,424\tERROR logger.py:184 -- pip install 'ray[tune]' to see TensorBoard files.\n",
      "2020-03-03 19:48:29,429\tWARNING logger.py:286 -- Could not instantiate TBXLogger: No module named 'tensorboardX'.\n",
      "2020-03-03 19:48:29,436\tINFO trainer.py:580 -- Current log_level is WARN. For more information, set 'log_level': 'INFO' / 'DEBUG' or use the -v and -vv flags.\n",
      "2020-03-03 19:48:31,687\tWARNING worker.py:1058 -- The dashboard on node matt-ThinkPad-X1-Carbon failed with the following error:\n",
      "Traceback (most recent call last):\n",
      "  File \"/home/matt/ray/python/ray/dashboard/dashboard.py\", line 918, in <module>\n",
      "    redis_password=args.redis_password,\n",
      "  File \"/home/matt/ray/python/ray/dashboard/dashboard.py\", line 134, in __init__\n",
      "    self.setup_routes()\n",
      "  File \"/home/matt/ray/python/ray/dashboard/dashboard.py\", line 333, in setup_routes\n",
      "    build_dir)\n",
      "FileNotFoundError: [Errno 2] Dashboard build directory not found. If installing from source, please follow the additional steps required to build the dashboard (cd python/ray/dashboard/client && npm ci && npm run build): '/home/matt/ray/python/ray/dashboard/client/build'\n",
      "\n"
     ]
    },
    {
     "name": "stdout",
     "output_type": "stream",
     "text": [
      "\u001b[2m\u001b[36m(pid=25010)\u001b[0m /home/matt/.virtualenvs/100m-rl/lib/python3.7/site-packages/pandas/compat/__init__.py:85: UserWarning: Could not import the lzma module. Your installed Python is incomplete. Attempting to use lzma compression will result in a RuntimeError.\n",
      "\u001b[2m\u001b[36m(pid=25010)\u001b[0m   warnings.warn(msg)\n",
      "\u001b[2m\u001b[36m(pid=25013)\u001b[0m /home/matt/.virtualenvs/100m-rl/lib/python3.7/site-packages/pandas/compat/__init__.py:85: UserWarning: Could not import the lzma module. Your installed Python is incomplete. Attempting to use lzma compression will result in a RuntimeError.\n",
      "\u001b[2m\u001b[36m(pid=25013)\u001b[0m   warnings.warn(msg)\n",
      "\u001b[2m\u001b[36m(pid=25011)\u001b[0m /home/matt/.virtualenvs/100m-rl/lib/python3.7/site-packages/pandas/compat/__init__.py:85: UserWarning: Could not import the lzma module. Your installed Python is incomplete. Attempting to use lzma compression will result in a RuntimeError.\n",
      "\u001b[2m\u001b[36m(pid=25011)\u001b[0m   warnings.warn(msg)\n",
      "\u001b[2m\u001b[36m(pid=25012)\u001b[0m /home/matt/.virtualenvs/100m-rl/lib/python3.7/site-packages/pandas/compat/__init__.py:85: UserWarning: Could not import the lzma module. Your installed Python is incomplete. Attempting to use lzma compression will result in a RuntimeError.\n",
      "\u001b[2m\u001b[36m(pid=25012)\u001b[0m   warnings.warn(msg)\n",
      "\u001b[2m\u001b[36m(pid=25010)\u001b[0m /home/matt/.virtualenvs/100m-rl/lib/python3.7/site-packages/pandas/compat/__init__.py:85: UserWarning: Could not import the lzma module. Your installed Python is incomplete. Attempting to use lzma compression will result in a RuntimeError.\n",
      "\u001b[2m\u001b[36m(pid=25010)\u001b[0m   warnings.warn(msg)\n",
      "\u001b[2m\u001b[36m(pid=25013)\u001b[0m /home/matt/.virtualenvs/100m-rl/lib/python3.7/site-packages/pandas/compat/__init__.py:85: UserWarning: Could not import the lzma module. Your installed Python is incomplete. Attempting to use lzma compression will result in a RuntimeError.\n",
      "\u001b[2m\u001b[36m(pid=25013)\u001b[0m   warnings.warn(msg)\n",
      "\u001b[2m\u001b[36m(pid=25011)\u001b[0m /home/matt/.virtualenvs/100m-rl/lib/python3.7/site-packages/pandas/compat/__init__.py:85: UserWarning: Could not import the lzma module. Your installed Python is incomplete. Attempting to use lzma compression will result in a RuntimeError.\n",
      "\u001b[2m\u001b[36m(pid=25011)\u001b[0m   warnings.warn(msg)\n",
      "\u001b[2m\u001b[36m(pid=25012)\u001b[0m /home/matt/.virtualenvs/100m-rl/lib/python3.7/site-packages/pandas/compat/__init__.py:85: UserWarning: Could not import the lzma module. Your installed Python is incomplete. Attempting to use lzma compression will result in a RuntimeError.\n",
      "\u001b[2m\u001b[36m(pid=25012)\u001b[0m   warnings.warn(msg)\n"
     ]
    },
    {
     "name": "stderr",
     "output_type": "stream",
     "text": [
      "2020-03-03 19:48:44,685\tINFO trainable.py:178 -- _setup took 15.251 seconds. If your trainable is slow to initialize, consider setting reuse_actors=True to reduce actor creation overheads.\n",
      "2020-03-03 19:48:44,688\tWARNING util.py:37 -- Install gputil for GPU system monitoring.\n"
     ]
    }
   ],
   "source": [
    "config = q1physrl.env.Config(\n",
    "    num_envs=1,\n",
    "    auto_jump=False,\n",
    "    time_limit=10,\n",
    "    key_press_delay=0.3,\n",
    "    initial_yaw_range=(0, 360),\n",
    "    max_initial_speed=700,\n",
    "    zero_start_prob=1.0,\n",
    ")\n",
    "\n",
    "trainer = q1physrl.train.make_trainer(q1physrl.train.make_run_config(config))"
   ]
  },
  {
   "cell_type": "code",
   "execution_count": 4,
   "metadata": {},
   "outputs": [
    {
     "name": "stderr",
     "output_type": "stream",
     "text": [
      "2020-03-03 19:48:45,203\tWARNING trainable.py:210 -- Getting current IP.\n",
      "2020-03-03 19:48:45,209\tINFO trainable.py:416 -- Restored on 192.168.178.24 from checkpoint: ../checkpoints/checkpoint-860\n",
      "2020-03-03 19:48:45,214\tINFO trainable.py:423 -- Current state after restoring: {'_iteration': 860, '_timesteps_total': 43000000, '_time_total': 37398.85990405083, '_episodes_total': 108427}\n"
     ]
    }
   ],
   "source": [
    "# FNAME = '/home/matt/ray_results/A2C_PhysEnv_2020-01-26_18-30-58enaj6dzm/checkpoint_54/checkpoint-54'\n",
    "# FNAME = '/home/matt/ray_results/A2C_PhysEnv_2020-01-27_21-54-210mybah6w/checkpoint_38/checkpoint-38'\n",
    "# FNAME = '/home/matt/ray_results/A2C_PhysEnv_2020-01-29_18-38-4507_f9y9o/checkpoint_42/checkpoint-42'\n",
    "# FNAME = '/home/matt/ray_results/A2C_PhysEnv_2020-01-29_18-48-34d96of62s/checkpoint_147/checkpoint-147'\n",
    "# FNAME = '/home/matt/ray_results/A2C_PhysEnv_2020-01-29_19-42-287sgxfik5/checkpoint_20/checkpoint-20'\n",
    "# FNAME = '/home/matt/ray_results/A2C_PhysEnv_2020-01-29_20-03-30jpgozu93/checkpoint_209/checkpoint-209'\n",
    "# FNAME = '/home/matt/checkpoint-141'\n",
    "# FNAME = '/home/matt/checkpoint-8421'\n",
    "# FNAME = '/home/matt/checkpoint-701'\n",
    "# FNAME = '/home/matt/checkpoint-13421'\n",
    "# FNAME = '/home/matt/checkpoint-5441'\n",
    "# FNAME = '../checkpoints/checkpoint-4169'\n",
    "# FNAME = '../checkpoints/checkpoint-4468'\n",
    "# FNAME = '../checkpoints/checkpoint-8054'\n",
    "# FNAME = '../checkpoints/checkpoint-7867'\n",
    "# FNAME = '../checkpoints/checkpoint-5199'\n",
    "# FNAME = '../checkpoints/checkpoint-8765'\n",
    "# FNAME = '../checkpoints/checkpoint-11625'\n",
    "# FNAME = '../checkpoints/checkpoint-2458'\n",
    "# FNAME = '../checkpoints/checkpoint-485'\n",
    "# FNAME = '../checkpoints/checkpoint-82'\n",
    "# FNAME = '../checkpoints/checkpoint-2929'\n",
    "# FNAME = '../checkpoints/checkpoint-291'\n",
    "# FNAME = '../checkpoints/checkpoint-98'\n",
    "# FNAME = '../checkpoints/checkpoint-194'\n",
    "# FNAME = '../checkpoints/checkpoint-1785'\n",
    "# FNAME = '../checkpoints/checkpoint-987'\n",
    "FNAME = '../checkpoints/checkpoint-860'\n",
    "\n",
    "\n",
    "trainer.restore(FNAME)"
   ]
  },
  {
   "cell_type": "code",
   "execution_count": 5,
   "metadata": {},
   "outputs": [],
   "source": [
    "DEMO_FILE_NAME = \"wr35.dem\""
   ]
  },
  {
   "cell_type": "code",
   "execution_count": 6,
   "metadata": {},
   "outputs": [
    {
     "ename": "AttributeError",
     "evalue": "module 'q1physrl.env' has no attribute '_OBS_SCALE'",
     "output_type": "error",
     "traceback": [
      "\u001b[0;31m---------------------------------------------------------------------------\u001b[0m",
      "\u001b[0;31mAttributeError\u001b[0m                            Traceback (most recent call last)",
      "\u001b[0;32m<ipython-input-6-ad2cb4c08685>\u001b[0m in \u001b[0;36masync-def-wrapper\u001b[0;34m()\u001b[0m\n",
      "\u001b[0;31mAttributeError\u001b[0m: module 'q1physrl.env' has no attribute '_OBS_SCALE'"
     ]
    }
   ],
   "source": [
    "with open(DEMO_FILE_NAME, 'wb') as f:\n",
    "    obs, action = await q1physrl.env.eval_coro(10, False, 26000, trainer, f)\n",
    "obs = np.array(obs) * q1physrl.env._OBS_SCALE"
   ]
  },
  {
   "cell_type": "code",
   "execution_count": 7,
   "metadata": {},
   "outputs": [],
   "source": [
    "    obs = np.array(obs)"
   ]
  },
  {
   "cell_type": "markdown",
   "metadata": {},
   "source": [
    "Plot raw actions over time"
   ]
  },
  {
   "cell_type": "code",
   "execution_count": null,
   "metadata": {
    "scrolled": false
   },
   "outputs": [],
   "source": [
    "# plt.plot(obs[:, 1])\n",
    "# plt.plot(obs[:, 2])\n",
    "\n",
    "# plt.show()\n",
    "# for a, k in zip(action.T, q1physrl.env.Key):\n",
    "#     plt.title(str(k))\n",
    "#     plt.plot(obs[:, 2] / 30 - 1)\n",
    "#     plt.plot(np.arange(len(a)), a, marker='+')\n",
    "#     plt.show()"
   ]
  },
  {
   "cell_type": "markdown",
   "metadata": {},
   "source": [
    "Convert the actions into movements, and plot them over time"
   ]
  },
  {
   "cell_type": "code",
   "execution_count": null,
   "metadata": {},
   "outputs": [],
   "source": [
    "action_to_move = q1physrl.env.ActionToMove(1)\n",
    "action_to_move.vector_reset()\n",
    "yaw, smove, fmove = np.array([action_to_move.map([a], np.float32(0.014 * i)[None])\n",
    "                                for i, a in enumerate(action)])[:, :, 0].T"
   ]
  },
  {
   "cell_type": "code",
   "execution_count": null,
   "metadata": {},
   "outputs": [],
   "source": [
    "plt.xlim(100, 200)\n",
    "plt.plot(20 * (yaw - 90))\n",
    "plt.plot(smove)\n",
    "plt.plot(20 * obs[:, q1physrl.env.Obs.Z_POS])"
   ]
  },
  {
   "cell_type": "code",
   "execution_count": null,
   "metadata": {
    "scrolled": true
   },
   "outputs": [],
   "source": [
    "plt.plot(fmove)\n",
    "plt.plot(20 * obs[:, q1physrl.env.Obs.Z_POS])"
   ]
  },
  {
   "cell_type": "markdown",
   "metadata": {},
   "source": [
    "Take the actions from the above run and push them through the PhysEnv.\n",
    "Comparing the observations will reveal potential bugs."
   ]
  },
  {
   "cell_type": "code",
   "execution_count": null,
   "metadata": {},
   "outputs": [],
   "source": [
    "env = q1physrl.env.PhysEnv({'num_envs': 1, 'auto_jump': True, 'initial_yaw_range': (0, 360),\n",
    "                            'action_range': 1.0,\n",
    "                            'max_initial_speed': 700, 'zero_start_prob': 1.0, 'time_limit': 10})\n",
    "o, = env.vector_reset()\n",
    "\n",
    "obs2= [o]\n",
    "\n",
    "for a in action:\n",
    "    (o,), _, _, _ = env.vector_step([a])\n",
    "    obs2.append(o)\n",
    "    \n",
    "obs2 = np.stack(obs2[:-1])\n",
    "# obs2 *= q1physrl.env._OBS_SCALE"
   ]
  },
  {
   "cell_type": "code",
   "execution_count": null,
   "metadata": {},
   "outputs": [],
   "source": [
    "plt.plot(np.cumsum(obs2[:, -2]) * 200 * 0.014)"
   ]
  },
  {
   "cell_type": "code",
   "execution_count": null,
   "metadata": {},
   "outputs": [],
   "source": [
    "plt.plot((obs - obs2)[:, 0])"
   ]
  },
  {
   "cell_type": "code",
   "execution_count": null,
   "metadata": {},
   "outputs": [],
   "source": [
    "plt.plot(np.max(np.abs(obs - obs2), axis=1))\n",
    "# plt.plot(np.argmax(np.abs(obs - obs2), axis=1))"
   ]
  },
  {
   "cell_type": "code",
   "execution_count": null,
   "metadata": {},
   "outputs": [],
   "source": [
    "plt.plot(np.cumsum(obs2[:, 3]), np.cumsum(obs2[:, 4]))"
   ]
  },
  {
   "cell_type": "markdown",
   "metadata": {},
   "source": [
    "Open the demo file we just made, and measure the speed"
   ]
  },
  {
   "cell_type": "code",
   "execution_count": 8,
   "metadata": {},
   "outputs": [],
   "source": [
    "view_entity = None\n",
    "origin = None\n",
    "origins = []\n",
    "times = []\n",
    "\n",
    "time = None\n",
    "\n",
    "def patch_vec(old_vec, update):\n",
    "    return tuple(v if u is None else u for v, u in zip(old_vec, update))\n",
    "\n",
    "with open(DEMO_FILE_NAME, 'rb') as f:\n",
    "    for angles, msg in pyquake.proto.read_demo_file(f):\n",
    "        if msg.msg_type == pyquake.proto.ServerMessageType.SETVIEW:\n",
    "            view_entity = msg.viewentity\n",
    "        if (msg.msg_type == pyquake.proto.ServerMessageType.SPAWNBASELINE and\n",
    "                msg.entity_num == view_entity):\n",
    "            origin = msg.origin\n",
    "        if (msg.msg_type == pyquake.proto.ServerMessageType.UPDATE and\n",
    "                msg.entity_num == view_entity):\n",
    "            origin = patch_vec(origin, msg.origin)\n",
    "            origins.append(origin)\n",
    "            times.append(time)\n",
    "        if msg.msg_type == pyquake.proto.ServerMessageType.TIME:\n",
    "            time = msg.time"
   ]
  },
  {
   "cell_type": "code",
   "execution_count": 9,
   "metadata": {},
   "outputs": [
    {
     "data": {
      "text/plain": [
       "[<matplotlib.lines.Line2D at 0x7f1a14d26208>]"
      ]
     },
     "execution_count": 9,
     "metadata": {},
     "output_type": "execute_result"
    },
    {
     "data": {
      "image/png": "[encoded data removed]",
      "text/plain": [
       "<Figure size 1584x864 with 1 Axes>"
      ]
     },
     "metadata": {
      "needs_background": "light"
     },
     "output_type": "display_data"
    }
   ],
   "source": [
    "plt.figure(figsize=(22, 12))\n",
    "plt.axes().set_aspect('equal')\n",
    "t = np.array(origins)\n",
    "plt.plot(t[:, 1], t[:, 0])\n",
    "plt.plot(t[:, 1], t[:, 2])"
   ]
  },
  {
   "cell_type": "code",
   "execution_count": 10,
   "metadata": {},
   "outputs": [
    {
     "name": "stdout",
     "output_type": "stream",
     "text": [
      "distance travelled 0.0\n",
      "final speed -3030.573593073593\n"
     ]
    },
    {
     "data": {
      "text/plain": [
       "[<matplotlib.lines.Line2D at 0x7f1a142ad978>]"
      ]
     },
     "execution_count": 10,
     "metadata": {},
     "output_type": "execute_result"
    },
    {
     "data": {
      "image/png": "[encoded data removed]",
      "text/plain": [
       "<Figure size 432x288 with 1 Axes>"
      ]
     },
     "metadata": {
      "needs_background": "light"
     },
     "output_type": "display_data"
    }
   ],
   "source": [
    "print('distance travelled', np.diff(np.array([o[1] for o in origins])).sum())\n",
    "print('final speed', np.diff([o[1] for o in origins][-100:]).mean() / 0.014)\n",
    "plt.title('distance travelled')\n",
    "plt.plot(times, [o[1] for o in origins])"
   ]
  },
  {
   "cell_type": "markdown",
   "metadata": {},
   "source": [
    "Just run forwards and see how much reward we get"
   ]
  },
  {
   "cell_type": "code",
   "execution_count": null,
   "metadata": {},
   "outputs": [],
   "source": [
    "env = q1physrl.env.PhysEnv({'num_envs': 1})\n",
    "o, = env.vector_reset()\n",
    "os = []\n",
    "done = False\n",
    "reward = 0\n",
    "while not done:\n",
    "    a = np.array([0, 0, 0, 0, 1])\n",
    "    (o,), (r,), (done,), _ = env.vector_step(a[None])\n",
    "    reward += r\n",
    "    os.append(o)\n",
    "os = np.stack(os)\n",
    "os *= q1physrl.env._OBS_SCALE"
   ]
  },
  {
   "cell_type": "code",
   "execution_count": null,
   "metadata": {},
   "outputs": [],
   "source": [
    "plt.plot(os[:, 4], label='hold forwards')\n",
    "plt.plot(obs[:, 4], label='agent')\n",
    "plt.legend()"
   ]
  },
  {
   "cell_type": "code",
   "execution_count": null,
   "metadata": {},
   "outputs": [],
   "source": [
    "os[:, 4].sum() * 0.014"
   ]
  },
  {
   "cell_type": "code",
   "execution_count": null,
   "metadata": {},
   "outputs": [],
   "source": [
    "obs[:, 4].sum() * 0.014"
   ]
  },
  {
   "cell_type": "code",
   "execution_count": null,
   "metadata": {},
   "outputs": [
    {
     "name": "stderr",
     "output_type": "stream",
     "text": [
      "2020-03-03 19:48:50,436\tERROR worker.py:998 -- Possible unhandled error from worker: \u001b[36mray::RolloutWorker\u001b[39m (pid=25010, ip=192.168.178.24)\n",
      "  File \"python/ray/_raylet.pyx\", line 438, in ray._raylet.execute_task\n",
      "  File \"/home/matt/ray/python/ray/memory_monitor.py\", line 122, in raise_if_low_memory\n",
      "    self.error_threshold))\n",
      "ray.memory_monitor.RayOutOfMemoryError: More than 95% of the memory on node matt-ThinkPad-X1-Carbon is used (7.33 / 7.69 GB). The top 10 memory consumers are:\n",
      "\n",
      "PID\tMEM\tCOMMAND\n",
      "24967\t0.46GiB\t/home/matt/.virtualenvs/100m-rl/bin/python3 -m ipykernel_launcher -f /home/matt/.local/share/jupyter\n",
      "25010\t0.35GiB\tray::RolloutWorker\n",
      "25013\t0.35GiB\tray::RolloutWorker.__init__()\n",
      "25011\t0.35GiB\tray::RolloutWorker.__init__()\n",
      "25012\t0.34GiB\tray::RolloutWorker.__init__()\n",
      "24100\t0.34GiB\t/home/matt/.virtualenvs/100m-rl/bin/python3 -m ipykernel_launcher -f /home/matt/.local/share/jupyter\n",
      "3378\t0.32GiB\t/usr/lib/firefox/firefox\n",
      "24141\t0.32GiB\tray::IDLE\n",
      "24143\t0.32GiB\tray::IDLE\n",
      "24140\t0.32GiB\tray::IDLE\n",
      "\n",
      "In addition, up to 0.61 GiB of shared memory is currently being used by the Ray object store. You can set the object store size with the `object_store_memory` parameter when starting Ray, and the max Redis size with `redis_max_memory`. Note that Ray assumes all system memory is available for use by workers. If your system has other applications running, you should manually set these memory limits to a lower value.\n",
      "2020-03-03 19:48:51,437\tERROR worker.py:998 -- Possible unhandled error from worker: \u001b[36mray::RolloutWorker\u001b[39m (pid=25013, ip=192.168.178.24)\n",
      "  File \"python/ray/_raylet.pyx\", line 438, in ray._raylet.execute_task\n",
      "  File \"/home/matt/ray/python/ray/memory_monitor.py\", line 122, in raise_if_low_memory\n",
      "    self.error_threshold))\n",
      "ray.memory_monitor.RayOutOfMemoryError: More than 95% of the memory on node matt-ThinkPad-X1-Carbon is used (7.36 / 7.69 GB). The top 10 memory consumers are:\n",
      "\n",
      "PID\tMEM\tCOMMAND\n",
      "24967\t0.46GiB\t/home/matt/.virtualenvs/100m-rl/bin/python3 -m ipykernel_launcher -f /home/matt/.local/share/jupyter\n",
      "25010\t0.35GiB\tray::RolloutWorker\n",
      "25013\t0.35GiB\tray::RolloutWorker\n",
      "25011\t0.35GiB\tray::RolloutWorker\n",
      "25012\t0.34GiB\tray::RolloutWorker.__init__()\n",
      "24100\t0.34GiB\t/home/matt/.virtualenvs/100m-rl/bin/python3 -m ipykernel_launcher -f /home/matt/.local/share/jupyter\n",
      "3378\t0.32GiB\t/usr/lib/firefox/firefox\n",
      "24141\t0.32GiB\tray::IDLE\n",
      "24143\t0.32GiB\tray::IDLE\n",
      "24140\t0.32GiB\tray::IDLE\n",
      "\n",
      "In addition, up to 0.63 GiB of shared memory is currently being used by the Ray object store. You can set the object store size with the `object_store_memory` parameter when starting Ray, and the max Redis size with `redis_max_memory`. Note that Ray assumes all system memory is available for use by workers. If your system has other applications running, you should manually set these memory limits to a lower value.\n",
      "2020-03-03 19:48:51,439\tERROR worker.py:998 -- Possible unhandled error from worker: \u001b[36mray::RolloutWorker\u001b[39m (pid=25011, ip=192.168.178.24)\n",
      "  File \"python/ray/_raylet.pyx\", line 438, in ray._raylet.execute_task\n",
      "  File \"/home/matt/ray/python/ray/memory_monitor.py\", line 122, in raise_if_low_memory\n",
      "    self.error_threshold))\n",
      "ray.memory_monitor.RayOutOfMemoryError: More than 95% of the memory on node matt-ThinkPad-X1-Carbon is used (7.34 / 7.69 GB). The top 10 memory consumers are:\n",
      "\n",
      "PID\tMEM\tCOMMAND\n",
      "24967\t0.46GiB\t/home/matt/.virtualenvs/100m-rl/bin/python3 -m ipykernel_launcher -f /home/matt/.local/share/jupyter\n",
      "25010\t0.35GiB\tray::RolloutWorker\n",
      "25013\t0.35GiB\tray::RolloutWorker\n",
      "25011\t0.35GiB\tray::RolloutWorker\n",
      "25012\t0.34GiB\tray::RolloutWorker.__init__()\n",
      "24100\t0.34GiB\t/home/matt/.virtualenvs/100m-rl/bin/python3 -m ipykernel_launcher -f /home/matt/.local/share/jupyter\n",
      "3378\t0.32GiB\t/usr/lib/firefox/firefox\n",
      "24141\t0.32GiB\tray::IDLE\n",
      "24143\t0.32GiB\tray::IDLE\n",
      "24140\t0.32GiB\tray::IDLE\n",
      "\n",
      "In addition, up to 0.61 GiB of shared memory is currently being used by the Ray object store. You can set the object store size with the `object_store_memory` parameter when starting Ray, and the max Redis size with `redis_max_memory`. Note that Ray assumes all system memory is available for use by workers. If your system has other applications running, you should manually set these memory limits to a lower value.\n",
      "2020-03-03 19:48:52,440\tERROR worker.py:998 -- Possible unhandled error from worker: \u001b[36mray::RolloutWorker\u001b[39m (pid=25012, ip=192.168.178.24)\n",
      "  File \"python/ray/_raylet.pyx\", line 438, in ray._raylet.execute_task\n",
      "  File \"/home/matt/ray/python/ray/memory_monitor.py\", line 122, in raise_if_low_memory\n",
      "    self.error_threshold))\n",
      "ray.memory_monitor.RayOutOfMemoryError: More than 95% of the memory on node matt-ThinkPad-X1-Carbon is used (7.36 / 7.69 GB). The top 10 memory consumers are:\n",
      "\n",
      "PID\tMEM\tCOMMAND\n",
      "24967\t0.46GiB\t/home/matt/.virtualenvs/100m-rl/bin/python3 -m ipykernel_launcher -f /home/matt/.local/share/jupyter\n",
      "25010\t0.35GiB\tray::RolloutWorker\n",
      "25012\t0.35GiB\tray::RolloutWorker\n",
      "25013\t0.35GiB\tray::RolloutWorker\n",
      "25011\t0.35GiB\tray::RolloutWorker\n",
      "24100\t0.34GiB\t/home/matt/.virtualenvs/100m-rl/bin/python3 -m ipykernel_launcher -f /home/matt/.local/share/jupyter\n",
      "3378\t0.32GiB\t/usr/lib/firefox/firefox\n",
      "24141\t0.32GiB\tray::IDLE\n",
      "24143\t0.32GiB\tray::IDLE\n",
      "24140\t0.32GiB\tray::IDLE\n",
      "\n",
      "In addition, up to 0.63 GiB of shared memory is currently being used by the Ray object store. You can set the object store size with the `object_store_memory` parameter when starting Ray, and the max Redis size with `redis_max_memory`. Note that Ray assumes all system memory is available for use by workers. If your system has other applications running, you should manually set these memory limits to a lower value.\n"
     ]
    }
   ],
   "source": [
    "plt.plot(os[:, 4], label='hold forwards')\n",
    "plt.plot(obs[:, 4], label='agent')\n",
    "plt.legend()"
   ]
  }
 ],
 "metadata": {
  "kernelspec": {
   "display_name": "Python 3",
   "language": "python",
   "name": "python3"
  },
  "language_info": {
   "codemirror_mode": {
    "name": "ipython",
    "version": 3
   },
   "file_extension": ".py",
   "mimetype": "text/x-python",
   "name": "python",
   "nbconvert_exporter": "python",
   "pygments_lexer": "ipython3",
   "version": "3.7.1"
  }
 },
 "nbformat": 4,
 "nbformat_minor": 4
}
