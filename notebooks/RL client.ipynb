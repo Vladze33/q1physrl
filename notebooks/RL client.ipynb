{
 "cells": [
  {
   "cell_type": "code",
   "execution_count": 1,
   "metadata": {},
   "outputs": [
    {
     "name": "stdout",
     "output_type": "stream",
     "text": [
      "WARNING: Not monitoring node memory since `psutil` is not installed. Install this with `pip install psutil` (or ray[debug]) to enable debugging of memory-related crashes.\n"
     ]
    },
    {
     "name": "stderr",
     "output_type": "stream",
     "text": [
      "/home/matt/.virtualenvs/100m-rl/lib/python3.7/site-packages/pandas/compat/__init__.py:85: UserWarning: Could not import the lzma module. Your installed Python is incomplete. Attempting to use lzma compression will result in a RuntimeError.\n",
      "  warnings.warn(msg)\n"
     ]
    }
   ],
   "source": [
    "import numpy as np\n",
    "import matplotlib.pyplot as plt\n",
    "import ray\n",
    "import ray.rllib\n",
    "\n",
    "import pyquake.proto\n",
    "import q1physrl.env"
   ]
  },
  {
   "cell_type": "code",
   "execution_count": 2,
   "metadata": {},
   "outputs": [
    {
     "name": "stderr",
     "output_type": "stream",
     "text": [
      "2020-02-12 08:48:05,820\tWARNING worker.py:682 -- WARNING: Not updating worker name since `setproctitle` is not installed. Install this with `pip install setproctitle` (or ray[debug]) to enable monitoring of worker processes.\n",
      "2020-02-12 08:48:05,875\tWARNING services.py:592 -- setpgrp failed, processes may not be cleaned up properly: [Errno 1] Operation not permitted.\n",
      "2020-02-12 08:48:05,941\tINFO resource_spec.py:212 -- Starting Ray with 1.76 GiB memory available for workers and up to 0.88 GiB for objects. You can adjust these settings with ray.init(memory=<bytes>, object_store_memory=<bytes>).\n",
      "2020-02-12 08:48:06,231\tWARNING services.py:1080 -- Failed to start the dashboard. The dashboard requires Python 3 as well as 'pip install aiohttp psutil setproctitle grpcio'.\n",
      "2020-02-12 08:48:06,305\tWARNING services.py:1004 -- Failed to start the reporter. The reporter requires 'pip install psutil'.\n"
     ]
    },
    {
     "data": {
      "text/plain": [
       "{'node_ip_address': '192.168.178.24',\n",
       " 'redis_address': '192.168.178.24:50649',\n",
       " 'object_store_address': '/tmp/ray/session_2020-02-12_08-48-05_824626_28806/sockets/plasma_store',\n",
       " 'raylet_socket_name': '/tmp/ray/session_2020-02-12_08-48-05_824626_28806/sockets/raylet',\n",
       " 'webui_url': None,\n",
       " 'session_dir': '/tmp/ray/session_2020-02-12_08-48-05_824626_28806'}"
      ]
     },
     "execution_count": 2,
     "metadata": {},
     "output_type": "execute_result"
    }
   ],
   "source": [
    "ray.init()"
   ]
  },
  {
   "cell_type": "code",
   "execution_count": 3,
   "metadata": {},
   "outputs": [
    {
     "name": "stderr",
     "output_type": "stream",
     "text": [
      "2020-02-12 08:48:06,593\tINFO trainer.py:377 -- Tip: set 'eager': true or the --eager flag to enable TensorFlow eager execution\n",
      "2020-02-12 08:48:06,640\tERROR logger.py:328 -- pip install 'ray[tune]' to see TensorBoard files.\n",
      "2020-02-12 08:48:06,641\tWARNING logger.py:417 -- Could not instantiate TBXLogger: No module named 'tensorboardX'.\n",
      "2020-02-12 08:48:06,645\tINFO trainer.py:524 -- Current log_level is WARN. For more information, set 'log_level': 'INFO' / 'DEBUG' or use the -v and -vv flags.\n"
     ]
    },
    {
     "name": "stdout",
     "output_type": "stream",
     "text": [
      "\u001b[2m\u001b[36m(pid=28857)\u001b[0m /home/matt/.virtualenvs/100m-rl/lib/python3.7/site-packages/pandas/compat/__init__.py:85: UserWarning: Could not import the lzma module. Your installed Python is incomplete. Attempting to use lzma compression will result in a RuntimeError.\n",
      "\u001b[2m\u001b[36m(pid=28857)\u001b[0m   warnings.warn(msg)\n",
      "\u001b[2m\u001b[36m(pid=28857)\u001b[0m /home/matt/.virtualenvs/100m-rl/lib/python3.7/site-packages/pandas/compat/__init__.py:85: UserWarning: Could not import the lzma module. Your installed Python is incomplete. Attempting to use lzma compression will result in a RuntimeError.\n",
      "\u001b[2m\u001b[36m(pid=28857)\u001b[0m   warnings.warn(msg)\n",
      "\u001b[2m\u001b[36m(pid=28855)\u001b[0m /home/matt/.virtualenvs/100m-rl/lib/python3.7/site-packages/pandas/compat/__init__.py:85: UserWarning: Could not import the lzma module. Your installed Python is incomplete. Attempting to use lzma compression will result in a RuntimeError.\n",
      "\u001b[2m\u001b[36m(pid=28855)\u001b[0m   warnings.warn(msg)\n",
      "\u001b[2m\u001b[36m(pid=28855)\u001b[0m /home/matt/.virtualenvs/100m-rl/lib/python3.7/site-packages/pandas/compat/__init__.py:85: UserWarning: Could not import the lzma module. Your installed Python is incomplete. Attempting to use lzma compression will result in a RuntimeError.\n",
      "\u001b[2m\u001b[36m(pid=28855)\u001b[0m   warnings.warn(msg)\n"
     ]
    },
    {
     "name": "stderr",
     "output_type": "stream",
     "text": [
      "2020-02-12 08:48:15,956\tWARNING util.py:41 -- Install gputil for GPU system monitoring.\n",
      "2020-02-12 08:48:15,958\tWARNING util.py:44 -- Install psutil to monitor system performance.\n"
     ]
    }
   ],
   "source": [
    "trainer = ray.rllib.agents.ppo.PPOTrainer(\n",
    "    env=q1physrl.env.PhysEnv,\n",
    "    config={\"env_config\": {\"num_envs\": 100}, \"gamma\": 0.9}\n",
    ")"
   ]
  },
  {
   "cell_type": "code",
   "execution_count": 4,
   "metadata": {},
   "outputs": [
    {
     "name": "stderr",
     "output_type": "stream",
     "text": [
      "2020-02-12 08:48:16,210\tWARNING trainable.py:210 -- Getting current IP.\n",
      "2020-02-12 08:48:16,211\tINFO trainable.py:416 -- Restored on 192.168.178.24 from checkpoint: ../checkpoints/checkpoint-82\n",
      "2020-02-12 08:48:16,225\tINFO trainable.py:423 -- Current state after restoring: {'_iteration': 82, '_timesteps_total': 1640000, '_time_total': 942.3783345222473, '_episodes_total': 7665}\n"
     ]
    }
   ],
   "source": [
    "# FNAME = '/home/matt/ray_results/A2C_PhysEnv_2020-01-26_18-30-58enaj6dzm/checkpoint_54/checkpoint-54'\n",
    "# FNAME = '/home/matt/ray_results/A2C_PhysEnv_2020-01-27_21-54-210mybah6w/checkpoint_38/checkpoint-38'\n",
    "# FNAME = '/home/matt/ray_results/A2C_PhysEnv_2020-01-29_18-38-4507_f9y9o/checkpoint_42/checkpoint-42'\n",
    "# FNAME = '/home/matt/ray_results/A2C_PhysEnv_2020-01-29_18-48-34d96of62s/checkpoint_147/checkpoint-147'\n",
    "# FNAME = '/home/matt/ray_results/A2C_PhysEnv_2020-01-29_19-42-287sgxfik5/checkpoint_20/checkpoint-20'\n",
    "# FNAME = '/home/matt/ray_results/A2C_PhysEnv_2020-01-29_20-03-30jpgozu93/checkpoint_209/checkpoint-209'\n",
    "# FNAME = '/home/matt/checkpoint-141'\n",
    "# FNAME = '/home/matt/checkpoint-8421'\n",
    "# FNAME = '/home/matt/checkpoint-701'\n",
    "# FNAME = '/home/matt/checkpoint-13421'\n",
    "# FNAME = '/home/matt/checkpoint-5441'\n",
    "# FNAME = '../checkpoints/checkpoint-4169'\n",
    "# FNAME = '../checkpoints/checkpoint-4468'\n",
    "# FNAME = '../checkpoints/checkpoint-8054'\n",
    "# FNAME = '../checkpoints/checkpoint-7867'\n",
    "# FNAME = '../checkpoints/checkpoint-5199'\n",
    "# FNAME = '../checkpoints/checkpoint-8765'\n",
    "# FNAME = '../checkpoints/checkpoint-11625'\n",
    "# FNAME = '../checkpoints/checkpoint-2458'\n",
    "# FNAME = '../checkpoints/checkpoint-485'\n",
    "FNAME = '../checkpoints/checkpoint-82'\n",
    "\n",
    "\n",
    "trainer.restore(FNAME)"
   ]
  },
  {
   "cell_type": "code",
   "execution_count": 5,
   "metadata": {},
   "outputs": [],
   "source": [
    "DEMO_FILE_NAME = \"wr28.dem\""
   ]
  },
  {
   "cell_type": "code",
   "execution_count": 6,
   "metadata": {},
   "outputs": [],
   "source": [
    "obs, action = await q1physrl.env.eval_coro(26000, trainer, DEMO_FILE_NAME)\n",
    "obs = np.array(obs) * q1physrl.env._OBS_SCALE"
   ]
  },
  {
   "cell_type": "markdown",
   "metadata": {},
   "source": [
    "Plot raw actions over time"
   ]
  },
  {
   "cell_type": "code",
   "execution_count": 7,
   "metadata": {
    "scrolled": false
   },
   "outputs": [],
   "source": [
    "# plt.plot(obs[:, 1])\n",
    "# plt.plot(obs[:, 2])\n",
    "\n",
    "# plt.show()\n",
    "# for a, k in zip(action.T, q1physrl.env.Key):\n",
    "#     plt.title(str(k))\n",
    "#     plt.plot(obs[:, 2] / 30 - 1)\n",
    "#     plt.plot(np.arange(len(a)), a, marker='+')\n",
    "#     plt.show()"
   ]
  },
  {
   "cell_type": "markdown",
   "metadata": {},
   "source": [
    "Convert the actions into movements, and plot them over time"
   ]
  },
  {
   "cell_type": "code",
   "execution_count": 8,
   "metadata": {},
   "outputs": [],
   "source": [
    "action_to_move = q1physrl.env.ActionToMove(1)\n",
    "action_to_move.vector_reset()\n",
    "yaw, smove, fmove = np.array([action_to_move.map([a], np.float32(0.014 * i)[None])\n",
    "                                for i, a in enumerate(action)])[:, :, 0].T"
   ]
  },
  {
   "cell_type": "code",
   "execution_count": 9,
   "metadata": {},
   "outputs": [
    {
     "data": {
      "text/plain": [
       "[<matplotlib.lines.Line2D at 0x7fe0d0095da0>]"
      ]
     },
     "execution_count": 9,
     "metadata": {},
     "output_type": "execute_result"
    },
    {
     "data": {
      "image/png": "[encoded data removed]",
      "text/plain": [
       "<Figure size 432x288 with 1 Axes>"
      ]
     },
     "metadata": {
      "needs_background": "light"
     },
     "output_type": "display_data"
    }
   ],
   "source": [
    "plt.xlim(100, 200)\n",
    "plt.plot(20 * (yaw - 90))\n",
    "plt.plot(smove)\n",
    "plt.plot(20 * obs[:, q1physrl.env.Obs.Z_POS])"
   ]
  },
  {
   "cell_type": "code",
   "execution_count": 10,
   "metadata": {
    "scrolled": true
   },
   "outputs": [
    {
     "data": {
      "text/plain": [
       "[<matplotlib.lines.Line2D at 0x7fe0a415d240>]"
      ]
     },
     "execution_count": 10,
     "metadata": {},
     "output_type": "execute_result"
    },
    {
     "data": {
      "image/png": "[encoded data removed]",
      "text/plain": [
       "<Figure size 432x288 with 1 Axes>"
      ]
     },
     "metadata": {
      "needs_background": "light"
     },
     "output_type": "display_data"
    }
   ],
   "source": [
    "plt.plot(fmove)\n",
    "plt.plot(20 * obs[:, q1physrl.env.Obs.Z_POS])"
   ]
  },
  {
   "cell_type": "markdown",
   "metadata": {},
   "source": [
    "Take the actions from the above run and push them through the PhysEnv.\n",
    "Comparing the observations will reveal potential bugs."
   ]
  },
  {
   "cell_type": "code",
   "execution_count": 11,
   "metadata": {},
   "outputs": [
    {
     "name": "stderr",
     "output_type": "stream",
     "text": [
      "/home/matt/100m-rl/q1physrl/phys.py:99: RuntimeWarning: invalid value encountered in true_divide\n",
      "  wish_vel / unclipped_wish_speed[:, None],\n",
      "/home/matt/100m-rl/q1physrl/phys.py:104: RuntimeWarning: invalid value encountered in true_divide\n",
      "  (wish_speed / unclipped_wish_speed),\n"
     ]
    }
   ],
   "source": [
    "env = q1physrl.env.PhysEnv({'num_envs': 1})\n",
    "o, = env.vector_reset()\n",
    "\n",
    "obs2= [o]\n",
    "\n",
    "for a in action:\n",
    "    (o,), _, _, _ = env.vector_step([a])\n",
    "    obs2.append(o)\n",
    "    \n",
    "obs2 = np.stack(obs2[:-1])\n",
    "obs2 *= q1physrl.env._OBS_SCALE"
   ]
  },
  {
   "cell_type": "code",
   "execution_count": 12,
   "metadata": {},
   "outputs": [
    {
     "data": {
      "text/plain": [
       "[<matplotlib.lines.Line2D at 0x7fe0a4105ac8>]"
      ]
     },
     "execution_count": 12,
     "metadata": {},
     "output_type": "execute_result"
    },
    {
     "data": {
      "image/png": "[encoded data removed]",
      "text/plain": [
       "<Figure size 432x288 with 1 Axes>"
      ]
     },
     "metadata": {
      "needs_background": "light"
     },
     "output_type": "display_data"
    }
   ],
   "source": [
    "plt.plot(np.max(np.abs(obs - obs2), axis=1))\n",
    "# plt.plot(np.argmax(np.abs(obs - obs2), axis=1))"
   ]
  },
  {
   "cell_type": "code",
   "execution_count": 15,
   "metadata": {},
   "outputs": [
    {
     "data": {
      "text/plain": [
       "[<matplotlib.lines.Line2D at 0x7fe09c798cc0>]"
      ]
     },
     "execution_count": 15,
     "metadata": {},
     "output_type": "execute_result"
    },
    {
     "data": {
      "image/png": "[encoded data removed]",
      "text/plain": [
       "<Figure size 432x288 with 1 Axes>"
      ]
     },
     "metadata": {
      "needs_background": "light"
     },
     "output_type": "display_data"
    }
   ],
   "source": [
    "plt.plot(np.cumsum(obs2[:, 3]), np.cumsum(obs2[:, 4]))"
   ]
  },
  {
   "cell_type": "markdown",
   "metadata": {},
   "source": [
    "Open the demo file we just made, and measure the speed"
   ]
  },
  {
   "cell_type": "code",
   "execution_count": 13,
   "metadata": {},
   "outputs": [],
   "source": [
    "view_entity = None\n",
    "origin = None\n",
    "origins = []\n",
    "times = []\n",
    "\n",
    "time = None\n",
    "\n",
    "def patch_vec(old_vec, update):\n",
    "    return tuple(v if u is None else u for v, u in zip(old_vec, update))\n",
    "\n",
    "with open(DEMO_FILE_NAME, 'rb') as f:\n",
    "    for angles, msg in pyquake.proto.read_demo_file(f):\n",
    "        if msg.msg_type == pyquake.proto.ServerMessageType.SETVIEW:\n",
    "            view_entity = msg.viewentity\n",
    "        if (msg.msg_type == pyquake.proto.ServerMessageType.SPAWNBASELINE and\n",
    "                msg.entity_num == view_entity):\n",
    "            origin = msg.origin\n",
    "        if (msg.msg_type == pyquake.proto.ServerMessageType.UPDATE and\n",
    "                msg.entity_num == view_entity):\n",
    "            origin = patch_vec(origin, msg.origin)\n",
    "            origins.append(origin)\n",
    "            times.append(time)\n",
    "        if msg.msg_type == pyquake.proto.ServerMessageType.TIME:\n",
    "            time = msg.time"
   ]
  },
  {
   "cell_type": "code",
   "execution_count": 14,
   "metadata": {},
   "outputs": [
    {
     "name": "stdout",
     "output_type": "stream",
     "text": [
      "distance travelled 1664.75\n",
      "final speed 452.9220779220779\n"
     ]
    },
    {
     "data": {
      "text/plain": [
       "[<matplotlib.lines.Line2D at 0x7f9b4c54a6d8>]"
      ]
     },
     "execution_count": 14,
     "metadata": {},
     "output_type": "execute_result"
    },
    {
     "data": {
      "image/png": "[encoded data removed]",
      "text/plain": [
       "<Figure size 432x288 with 1 Axes>"
      ]
     },
     "metadata": {
      "needs_background": "light"
     },
     "output_type": "display_data"
    }
   ],
   "source": [
    "print('distance travelled', np.diff(np.array([o[1] for o in origins])).sum())\n",
    "print('final speed', np.diff([o[1] for o in origins][-100:]).mean() / 0.014)\n",
    "plt.title('distance travelled')\n",
    "plt.plot(times, [o[1] for o in origins])"
   ]
  },
  {
   "cell_type": "markdown",
   "metadata": {},
   "source": [
    "Just run forwards and see how much reward we get"
   ]
  },
  {
   "cell_type": "code",
   "execution_count": 15,
   "metadata": {},
   "outputs": [],
   "source": [
    "env = q1physrl.env.PhysEnv({'num_envs': 1})\n",
    "o, = env.vector_reset()\n",
    "os = []\n",
    "done = False\n",
    "reward = 0\n",
    "while not done:\n",
    "    a = np.array([0, 0, 0, 0, 1])\n",
    "    (o,), (r,), (done,), _ = env.vector_step(a[None])\n",
    "    reward += r\n",
    "    os.append(o)\n",
    "os = np.stack(os)\n",
    "os *= q1physrl.env._OBS_SCALE"
   ]
  },
  {
   "cell_type": "code",
   "execution_count": 16,
   "metadata": {},
   "outputs": [
    {
     "data": {
      "text/plain": [
       "<matplotlib.legend.Legend at 0x7f9b4c4c7358>"
      ]
     },
     "execution_count": 16,
     "metadata": {},
     "output_type": "execute_result"
    },
    {
     "data": {
      "image/png": "[encoded data removed]",
      "text/plain": [
       "<Figure size 432x288 with 1 Axes>"
      ]
     },
     "metadata": {
      "needs_background": "light"
     },
     "output_type": "display_data"
    }
   ],
   "source": [
    "plt.plot(os[:, 4], label='hold forwards')\n",
    "plt.plot(obs[:, 4], label='agent')\n",
    "plt.legend()"
   ]
  },
  {
   "cell_type": "code",
   "execution_count": 17,
   "metadata": {},
   "outputs": [
    {
     "data": {
      "text/plain": [
       "0.0"
      ]
     },
     "execution_count": 17,
     "metadata": {},
     "output_type": "execute_result"
    }
   ],
   "source": [
    "os[:, 4].sum() * 0.014"
   ]
  },
  {
   "cell_type": "code",
   "execution_count": 18,
   "metadata": {},
   "outputs": [
    {
     "data": {
      "text/plain": [
       "1623.104"
      ]
     },
     "execution_count": 18,
     "metadata": {},
     "output_type": "execute_result"
    }
   ],
   "source": [
    "obs[:, 4].sum() * 0.014"
   ]
  },
  {
   "cell_type": "code",
   "execution_count": null,
   "metadata": {},
   "outputs": [],
   "source": [
    "plt.plot(os[:, 4], label='hold forwards')\n",
    "plt.plot(obs[:, 4], label='agent')\n",
    "plt.legend()"
   ]
  }
 ],
 "metadata": {
  "kernelspec": {
   "display_name": "Python 3",
   "language": "python",
   "name": "python3"
  },
  "language_info": {
   "codemirror_mode": {
    "name": "ipython",
    "version": 3
   },
   "file_extension": ".py",
   "mimetype": "text/x-python",
   "name": "python",
   "nbconvert_exporter": "python",
   "pygments_lexer": "ipython3",
   "version": "3.7.1"
  }
 },
 "nbformat": 4,
 "nbformat_minor": 4
}
